{
 "cells": [
  {
   "cell_type": "markdown",
   "metadata": {},
   "source": [
    "# Weni Project Cloner\n",
    "\n",
    "This notebook copies information from one Weni project to another using the Weni API.\n",
    "\n",
    "## Features:\n",
    "1. Copy agent customization (name, role, personality, goal, instructions)\n",
    "2. Copy knowledge bases:\n",
    "   - Text bases\n",
    "   - Site/link bases\n",
    "   - File bases"
   ]
  },
  {
   "cell_type": "markdown",
   "metadata": {},
   "source": [
    "## 1. Setup and Configuration"
   ]
  },
  {
   "cell_type": "code",
   "execution_count": null,
   "metadata": {},
   "outputs": [],
   "source": [
    "import os\n",
    "import json\n",
    "import requests\n",
    "from dotenv import load_dotenv\n",
    "import time\n",
    "from typing import Dict, List, Any\n",
    "\n",
    "# Load environment variables\n",
    "load_dotenv()\n",
    "\n",
    "# Get configuration from .env\n",
    "BEARER_TOKEN = os.getenv('BEARER_TOKEN')\n",
    "SOURCE_PROJECT_UUID = os.getenv('SOURCE_PROJECT_UUID')\n",
    "DESTINATION_PROJECT_UUID = os.getenv('DESTINATION_PROJECT_UUID')\n",
    "\n",
    "# Validate configuration\n",
    "if not all([BEARER_TOKEN, SOURCE_PROJECT_UUID, DESTINATION_PROJECT_UUID]):\n",
    "    raise ValueError(\"Please ensure all required environment variables are set in .env file\")\n",
    "\n",
    "print(f\"Source Project: {SOURCE_PROJECT_UUID}\")\n",
    "print(f\"Destination Project: {DESTINATION_PROJECT_UUID}\")\n",
    "print(\"Configuration loaded successfully!\")"
   ]
  },
  {
   "cell_type": "markdown",
   "metadata": {},
   "source": [
    "## 2. API Helper Functions"
   ]
  },
  {
   "cell_type": "code",
   "execution_count": null,
   "metadata": {},
   "outputs": [],
   "source": [
    "# Common headers for all requests\n",
    "def get_headers():\n",
    "    return {\n",
    "        'accept': 'application/json, text/plain, */*',\n",
    "        'accept-language': 'en-US,en;q=0.9,pt-BR;q=0.8,pt;q=0.7,es;q=0.6,nl;q=0.5,fr;q=0.4',\n",
    "        'authorization': f'Bearer {BEARER_TOKEN}',\n",
    "        'origin': 'https://intelligence-next.weni.ai',\n",
    "        'priority': 'u=1, i',\n",
    "        'referer': 'https://intelligence-next.weni.ai/',\n",
    "        'sec-ch-ua': '\"Not;A=Brand\";v=\"99\", \"Google Chrome\";v=\"139\", \"Chromium\";v=\"139\"',\n",
    "        'sec-ch-ua-mobile': '?0',\n",
    "        'sec-ch-ua-platform': '\"macOS\"',\n",
    "        'sec-fetch-dest': 'empty',\n",
    "        'sec-fetch-mode': 'cors',\n",
    "        'sec-fetch-site': 'same-site',\n",
    "        'user-agent': 'Mozilla/5.0 (Macintosh; Intel Mac OS X 10_15_7) AppleWebKit/537.36 (KHTML, like Gecko) Chrome/139.0.0.0 Safari/537.36'\n",
    "    }\n",
    "\n",
    "def get_headers_with_content_type():\n",
    "    headers = get_headers()\n",
    "    headers['content-type'] = 'application/json'\n",
    "    return headers"
   ]
  },
  {
   "cell_type": "markdown",
   "metadata": {},
   "source": [
    "## 3. Agent Customization Functions"
   ]
  },
  {
   "cell_type": "code",
   "execution_count": null,
   "metadata": {},
   "outputs": [],
   "source": [
    "def get_agent_customization(project_uuid: str) -> Dict[str, Any]:\n",
    "    \"\"\"Get agent customization from source project\"\"\"\n",
    "    url = f'https://nexus.weni.ai/api/{project_uuid}/customization/'\n",
    "    \n",
    "    response = requests.get(url, headers=get_headers())\n",
    "    \n",
    "    if response.status_code == 200:\n",
    "        return response.json()\n",
    "    else:\n",
    "        raise Exception(f\"Failed to get agent customization: {response.status_code} - {response.text}\")\n",
    "\n",
    "def update_agent_customization(project_uuid: str, customization_data: Dict[str, Any]) -> Dict[str, Any]:\n",
    "    \"\"\"Update agent customization in destination project\"\"\"\n",
    "    url = f'https://nexus.weni.ai/api/{project_uuid}/customization/'\n",
    "    \n",
    "    response = requests.put(url, headers=get_headers_with_content_type(), json=customization_data)\n",
    "    \n",
    "    if response.status_code in [200, 201]:\n",
    "        return response.json()\n",
    "    else:\n",
    "        raise Exception(f\"Failed to update agent customization: {response.status_code} - {response.text}\")"
   ]
  },
  {
   "cell_type": "markdown",
   "metadata": {},
   "source": [
    "## 4. Knowledge Base Functions"
   ]
  },
  {
   "cell_type": "code",
   "execution_count": null,
   "metadata": {},
   "outputs": [],
   "source": [
    "# Text Base Functions\n",
    "def get_text_bases(project_uuid: str) -> List[Dict[str, Any]]:\n",
    "    \"\"\"Get all text bases from project\"\"\"\n",
    "    url = f'https://nexus.weni.ai/api/{project_uuid}/content-bases-text/'\n",
    "    \n",
    "    response = requests.get(url, headers=get_headers())\n",
    "    \n",
    "    if response.status_code == 200:\n",
    "        return response.json()\n",
    "    else:\n",
    "        raise Exception(f\"Failed to get text bases: {response.status_code} - {response.text}\")\n",
    "\n",
    "def create_text_base(project_uuid: str, text_data: Dict[str, str]) -> Dict[str, Any]:\n",
    "    \"\"\"Create a text base in destination project\"\"\"\n",
    "    url = f'https://nexus.weni.ai/api/{project_uuid}/content-bases-text/'\n",
    "    \n",
    "    response = requests.post(url, headers=get_headers_with_content_type(), json=text_data)\n",
    "    \n",
    "    if response.status_code in [200, 201]:\n",
    "        return response.json()\n",
    "    else:\n",
    "        raise Exception(f\"Failed to create text base: {response.status_code} - {response.text}\")"
   ]
  },
  {
   "cell_type": "code",
   "execution_count": null,
   "metadata": {},
   "outputs": [],
   "source": [
    "# Link/Site Base Functions\n",
    "def get_link_bases(project_uuid: str) -> List[Dict[str, Any]]:\n",
    "    \"\"\"Get all link bases from project\"\"\"\n",
    "    url = f'https://nexus.weni.ai/api/{project_uuid}/content-bases-link/'\n",
    "    \n",
    "    response = requests.get(url, headers=get_headers())\n",
    "    \n",
    "    if response.status_code == 200:\n",
    "        return response.json()\n",
    "    else:\n",
    "        raise Exception(f\"Failed to get link bases: {response.status_code} - {response.text}\")\n",
    "\n",
    "def create_link_base(project_uuid: str, link_data: Dict[str, str]) -> Dict[str, Any]:\n",
    "    \"\"\"Create a link base in destination project\"\"\"\n",
    "    url = f'https://nexus.weni.ai/api/{project_uuid}/content-bases-link/'\n",
    "    \n",
    "    response = requests.post(url, headers=get_headers_with_content_type(), json=link_data)\n",
    "    \n",
    "    if response.status_code in [200, 201]:\n",
    "        return response.json()\n",
    "    else:\n",
    "        raise Exception(f\"Failed to create link base: {response.status_code} - {response.text}\")"
   ]
  },
  {
   "cell_type": "code",
   "execution_count": null,
   "metadata": {},
   "outputs": [],
   "source": [
    "# File Base Functions\n",
    "def get_file_bases(project_uuid: str) -> List[Dict[str, Any]]:\n",
    "    \"\"\"Get all file bases from project\"\"\"\n",
    "    url = f'https://nexus.weni.ai/api/{project_uuid}/content-bases-file/'\n",
    "    \n",
    "    response = requests.get(url, headers=get_headers())\n",
    "    \n",
    "    if response.status_code == 200:\n",
    "        return response.json()\n",
    "    else:\n",
    "        raise Exception(f\"Failed to get file bases: {response.status_code} - {response.text}\")\n",
    "\n",
    "def download_file(file_url: str) -> bytes:\n",
    "    \"\"\"Download a file from URL\"\"\"\n",
    "    response = requests.get(file_url)\n",
    "    if response.status_code == 200:\n",
    "        return response.content\n",
    "    else:\n",
    "        raise Exception(f\"Failed to download file: {response.status_code}\")\n",
    "\n",
    "def create_file_base(project_uuid: str, file_data: Dict[str, Any], file_content: bytes) -> Dict[str, Any]:\n",
    "    \"\"\"Create a file base in destination project\"\"\"\n",
    "    url = f'https://nexus.weni.ai/api/{project_uuid}/content-bases-file/'\n",
    "    \n",
    "    # Prepare multipart form data\n",
    "    files = {\n",
    "        'file': (file_data.get('filename', 'file.pdf'), file_content, file_data.get('content_type', 'application/pdf'))\n",
    "    }\n",
    "    \n",
    "    data = {\n",
    "        'extension_file': file_data.get('extension_file', 'pdf'),\n",
    "        'load_type': file_data.get('load_type', 'pdfminer')\n",
    "    }\n",
    "    \n",
    "    # Remove content-type header for multipart\n",
    "    headers = get_headers()\n",
    "    \n",
    "    response = requests.post(url, headers=headers, files=files, data=data)\n",
    "    \n",
    "    if response.status_code in [200, 201]:\n",
    "        return response.json()\n",
    "    else:\n",
    "        raise Exception(f\"Failed to create file base: {response.status_code} - {response.text}\")"
   ]
  },
  {
   "cell_type": "markdown",
   "metadata": {},
   "source": [
    "## 5. Copy Agent Customization"
   ]
  },
  {
   "cell_type": "code",
   "execution_count": 11,
   "metadata": {},
   "outputs": [],
   "source": [
    "def copy_agent_customization():\n",
    "    \"\"\"Copy agent customization from source to destination project\"\"\"\n",
    "    print(\"Copying agent customization...\")\n",
    "    \n",
    "    try:\n",
    "        # Get source customization\n",
    "        source_customization = get_agent_customization(SOURCE_PROJECT_UUID)\n",
    "        print(f\"Retrieved agent customization from source project\")\n",
    "        print(f\"Agent name: {source_customization.get('agent', {}).get('name', 'N/A')}\")\n",
    "        print(f\"Number of instructions: {len(source_customization.get('instructions', []))}\")\n",
    "\n",
    "        print(source_customization)\n",
    "        \n",
    "        # Update destination with source data\n",
    "        result = update_agent_customization(DESTINATION_PROJECT_UUID, source_customization)\n",
    "        print(\"✅ Successfully copied agent customization to destination project\")\n",
    "        \n",
    "        return result\n",
    "        \n",
    "    except Exception as e:\n",
    "        print(f\"❌ Error copying agent customization: {str(e)}\")\n",
    "        return None"
   ]
  },
  {
   "cell_type": "code",
   "execution_count": 12,
   "metadata": {},
   "outputs": [
    {
     "name": "stdout",
     "output_type": "stream",
     "text": [
      "Copying agent customization...\n",
      "Retrieved agent customization from source project\n",
      "Agent name: Vendedor Virtual\n",
      "Number of instructions: 39\n",
      "{'agent': {'name': 'Vendedor Virtual', 'role': 'Especialista em Obras', 'personality': 'Amigável', 'goal': 'Você tira dúvidas e oferta produtos de construção civil (banheiros, climatização e ventilação, cozinha e área de serviço, EPIs, ferragens, ferramentas, iluminação, impermeabilizantes, marcenaria e madeiras, materiais de construção, materiais elétricos, materiais hidráulicos, organização e limpeza, pisos e revestimentos, portas e janelas, sistemas de segurança e comunicação, e tintas e acessórios) no varejo ou atacado. Suas funcionalidades são: buscar produtos, gerar link de pagamento do checkout, fornecer informações sobre o pedido do cliente e nota fiscal. Seu público alvo são profissionais da construção como pedreiros, encanadores, eletricistas, engenheiros, mestres de obra e arquitetos.'}, 'instructions': [{'id': 10863, 'instruction': 'When using AgentCommunication__sendMessage (“Send a message to an agent.”), OVERRIDE its note: write line breaks in content as \\\\n (single backslash) only; never emit the literal two-character sequence \\\\\\\\n.'}, {'id': 10656, 'instruction': 'Sempre tente resolver o tema da conversa antes de direcionar para o televendas ou loja física. Sempre que o cliente insistir em falar com um vendedor, direcione o canal do televendas'}, {'id': 10666, 'instruction': 'Sempre que o cliente perguntar sobre promoções e cupons, responda com confiança que a Obramax possui preços baixos o ano inteiro, mas que se deseja oportunidades ainda mais vantajosas dentro da Obramax, basta acessar a coleção Max por Menos no link https://www.obramax.com.br/139?map=productClusterIds. Mantenha um tom positivo e encorajador, mostrando que o cliente sempre pode economizar com a Obramax.'}, {'id': 10657, 'instruction': 'Se não encontrar o produto específico que o cliente quer, tente buscar de forma mais genérica respeitando as especificações que o cliente precisa'}, {'id': 10658, 'instruction': 'Sempre envie para o agente de busca de produtos o CEP e o deliverytype se já tiver (deliverytype só é obrigatório quando o agente colaborador pedir)'}, {'id': 10659, 'instruction': 'SEMPRE ENVIE O LINK DA IMAGEM DO PRODUTO (IMAGEURL)'}, {'id': 10660, 'instruction': \"Sempre que for calcular valor final de pisos e revestimentos, use a fórmula 'quantidade de metro quadrado por caixa X preço X quantidade de caixas necessarias'. Arredonde a quantidade de caixa sempre para cima caso seja necessário para cobrir a área que o cliente precisa\"}, {'id': 10661, 'instruction': 'Sempre que faltar até 2 peças para atingir a quantidade mínima de atacado, informe o cliente'}, {'id': 10662, 'instruction': 'Sempre que enviar a pesquisa CSAT, não envie componente quickreply'}, {'id': 10663, 'instruction': 'Sempre que for enviar links, envie na mensagem de forma escrita'}, {'id': 10664, 'instruction': 'Sempre chame o agente de checkout e frete depois de ter chamado o agente de busca de produtos concierge primeiramente'}, {'id': 10665, 'instruction': 'Sempre que o agente de busca indicar produtos errados, direcione o cliente para o Orçamax para fazer seu orçamento'}, {'id': 10667, 'instruction': 'Sempre apresente as opções de frete destacando a mais barata em negrito. Sempre que o cliente quiser retirar, oriente sobre o tamanho do veículo de acordo com a cubagem (carro de passeio, utilitário ou caminhão) se o pedido for em grande quantidade.'}, {'id': 10668, 'instruction': 'sempre que o cliente quiser fechar um pedido, gere um carrinho novo, não reutilize carrinhos'}, {'id': 10669, 'instruction': 'Sempre obrigatoriamente envie ao cliente o link original da imagem do produto (imageUrl), na listagem de produtos, mesmo que o cliente não peça. É obrigatório priorizar o envio da imagem e NUNCA deixar de enviá-la. Só envie o link da página do produto caso o cliente insista.'}, {'id': 10670, 'instruction': 'Quando estiver na etapa final de gerar o link de pagamento, chame o agente Payment Agent passando o parametro product_items nesse formato: [{sku_id=sku_id, quantity=1, seller_id=1},{sku_id=sku_id, quantity=1, seller_id=1}] Lembre de substituir o sku_id pelo sku_id e quantity pela quantidade desejada. Sempre use o seller_id=1. Nunca envie nada concatenado ao sku_id. NUNCA envie nesse formato: [{sku_id=1976404#246, quantity=1, seller_id=1}], somente nesse [{sku_id=1976404, quantity=1, seller_id=1}]'}, {'id': 10671, 'instruction': 'Caso o cliente queira falar com um vendedor, direcione o canal do televendas'}, {'id': 10672, 'instruction': \"Sempre que receber um link com extensão .jpg você deve enviá-lo ao usuário obrigatóriamente. O link segue esse formato de exemplo 'https://lojaobramax.vtexassets.com/arquivos/ids/NUMERO/NUMERO.jpg?v=NUMERO'\"}, {'id': 10673, 'instruction': 'Sempre deixe claro que o valor de retirada é referente à separação dos itens e não do frete'}, {'id': 10674, 'instruction': 'Sempre que for dar o feedback progressivo, envie no mesmo idioma da conversa. Nunca envie uma mensagem em um idioma diferente do idioma do usuário. Não envie mais de dois feedbacks progressivos consecutivamente'}, {'id': 10675, 'instruction': 'Sempre que o cliente tiver dúvidas sobre a quantidade de cerâmica, pergunte onde será instalada (piso ou parede), a largura e a profundidade do local. Pergunte se o cliente deseja instalar no rodapé; se sim, adicione sempre 10% sobre o total (não calcule o rodapé separadamente, considere sempre 10% a mais). Em seguida, adicione mais 10% sobre o total final para margem de segurança (quebras).'}, {'id': 10676, 'instruction': 'Sempre tente usar as palavras importantes para o negócio e as coloque em negrito. Para usar negrito use dois asteriscos antes e dois asteriscos após a palavra. As palavras importantes para o negócio são: Confira, Saiba mais, Ver detalhes, Adicionar ao carrinho, Aprovado, Compre, Concluído, Confirmado, Confirmar, Criado, Economize, Finalizar, Garanta, Melhor preço, Recebido'}, {'id': 10677, 'instruction': 'SEMPRE tente vender para o cliente na conversa, só direcione para o televendas ou loja física se o cliente estiver tendo problemas'}, {'id': 10678, 'instruction': 'Consulte a base de conhecimento somente se quiser buscar informações sobre retirada, troca e devolução, política de entrega e sobre a obramax. Nunca consulte para saber informações sobre valores ou produtos'}, {'id': 10679, 'instruction': 'Se o cliente quiser o boleto do orçamento dele, direcione para o canal de televendas'}, {'id': 10680, 'instruction': 'Fale de forma direta, acessível e com atitude positiva, sem parecer forçado. Use frases curtas, objetivas, com poucos parágrafos e evite jargões complicados. Priorize a clareza e a leitura fácil. Se for ajudar o entendimento, use emojis com moderação, no fim do parágrafo, APENAS quando deixarem a conversa mais leve ou fluida. Ofereça sugestões, mas NUNCA pressione o cliente.'}, {'id': 10681, 'instruction': 'Sempre que o cliente estiver precisando de ajuda ou com algum problema, direcione para o canal do Cliente de acordo com a base de conhecimento'}, {'id': 10682, 'instruction': \"Sempre que receber mensagens nessa estrutura 'nome completo do produto + SKU: numero do sku + dúvida' chame o agente de Informações do produto, caso contrário, priorize o uso do agente concierge de busca de produtos\"}, {'id': 10683, 'instruction': 'Sempre use o agente de busca de produtos, é obrigatório chamar o agente de busca de produtos pelo menos uma vez para regionalizar (com cep e modalidade de entrega) para verificar estoque do produto antes de chamar o agente de checkout e frete'}, {'id': 10684, 'instruction': 'Sempre use o agente de busca de produtos para saber o valor do produto. O agente de Checkout e frete serve somente para finalizar o pedido e obter informações de frete, informações de pagamento do produto é com o agente de busca de produtos'}, {'id': 10685, 'instruction': 'Sempre que chamar o agente de checkout já envie o CEP do cliente se tiver'}, {'id': 10686, 'instruction': 'Seja muito direto informando sobre produtos e vendendo, evite textos grandes e tente sempre vender. Se o cliente não tiver dúvidas, seja direto e venda, faça perguntas somente se o cliente demonstrar estar com dúvidas sobre a compra'}, {'id': 10687, 'instruction': \"No início da conversa sempre se apresente com essa mensagem 'Olá! Sou seu Vendedor Virtual. Me envie um áudio, texto ou imagem do que precisa e eu te ajudo! O que deseja comprar? 😊'\"}, {'id': 10688, 'instruction': 'Sempre que for listar produtos, apresente até 3 opções e de forma direta. O usuário não precisa saber como você organizou os itens. Se o cliente quiser ver mais itens avise que ele buscar de forma específica'}, {'id': 10689, 'instruction': 'Sempre seja cordial em caso de elogio ao final do atendimento e diga \"Até logo\". Sempre responda com leveza e acolhimento, mesmo quando a mensagem for confusa ou fora do tema. Sempre redirecione com naturalidade a conversa para algo que possa ajudar. Se for algo inadequado ou ofensivo, mantenha o tom respeitoso, mas encurte a conversa e oriente para atendimento nos canais Obramax.'}, {'id': 10690, 'instruction': 'Sempre que o cliente mudar a opção logística de entrega, chame o agente concierge de busca de produtos para verificação do estoque do produto'}, {'id': 10691, 'instruction': 'Sempre que for falar o valor de um produto, mencione que ele custa R$ X Preço à vista ou até X vezes de X valor no cartão de crédito (informe que haverá a taxa de juros da operadora de cartão de crédito). Sempre informe o preço de atacado e quantidade mínima se houver, incluindo a imagem de cada produto'}, {'id': 10692, 'instruction': 'Envie a imagem do produto sem formatação Markdown (ex.: ![nome](URL) ou [Imagem:]). Sempre envie imageUrl original, sem qualquer formatação, especialmente quando o link terminar com extensão de imagem'}, {'id': 10693, 'instruction': 'Se apresente chamando o cliente pelo nome (se souber) e cumprimente dando as boas vindas. Informe o cliente com naturalidade que ele pode mandar um áudio, texto ou imagem do produto que ele precisa. Convide o cliente a começar, se mostrando disponível a ajudar.'}], 'team': {'human_support': False, 'human_support_prompt': None}}\n",
      "❌ Error copying agent customization: Failed to update agent customization: 500 - {\"error\":\"ContentBaseInstruction matching query does not exist.\"}\n"
     ]
    }
   ],
   "source": [
    "# Execute agent customization copy\n",
    "agent_result = copy_agent_customization()"
   ]
  },
  {
   "cell_type": "markdown",
   "metadata": {},
   "source": [
    "## 6. Copy Text Bases"
   ]
  },
  {
   "cell_type": "code",
   "execution_count": null,
   "metadata": {},
   "outputs": [],
   "source": [
    "def copy_text_bases():\n",
    "    \"\"\"Copy all text bases from source to destination project\"\"\"\n",
    "    print(\"\\nCopying text bases...\")\n",
    "    \n",
    "    try:\n",
    "        # Get source text bases\n",
    "        source_text_bases = get_text_bases(SOURCE_PROJECT_UUID)\n",
    "        print(f\"Found {len(source_text_bases)} text bases in source project\")\n",
    "        \n",
    "        copied_count = 0\n",
    "        \n",
    "        for i, text_base in enumerate(source_text_bases):\n",
    "            try:\n",
    "                # Create text base data\n",
    "                text_data = {\n",
    "                    \"text\": text_base.get(\"text\", \"\")\n",
    "                }\n",
    "                \n",
    "                # Create in destination\n",
    "                result = create_text_base(DESTINATION_PROJECT_UUID, text_data)\n",
    "                copied_count += 1\n",
    "                print(f\"  ✅ Copied text base {i+1}/{len(source_text_bases)}\")\n",
    "                \n",
    "                # Small delay to avoid rate limiting\n",
    "                time.sleep(0.5)\n",
    "                \n",
    "            except Exception as e:\n",
    "                print(f\"  ❌ Error copying text base {i+1}: {str(e)}\")\n",
    "        \n",
    "        print(f\"\\n✅ Successfully copied {copied_count}/{len(source_text_bases)} text bases\")\n",
    "        \n",
    "    except Exception as e:\n",
    "        print(f\"❌ Error accessing text bases: {str(e)}\")"
   ]
  },
  {
   "cell_type": "code",
   "execution_count": null,
   "metadata": {},
   "outputs": [],
   "source": [
    "# Execute text bases copy\n",
    "copy_text_bases()"
   ]
  },
  {
   "cell_type": "markdown",
   "metadata": {},
   "source": [
    "## 7. Copy Link/Site Bases"
   ]
  },
  {
   "cell_type": "code",
   "execution_count": null,
   "metadata": {},
   "outputs": [],
   "source": [
    "def copy_link_bases():\n",
    "    \"\"\"Copy all link bases from source to destination project\"\"\"\n",
    "    print(\"\\nCopying link/site bases...\")\n",
    "    \n",
    "    try:\n",
    "        # Get source link bases\n",
    "        source_link_bases = get_link_bases(SOURCE_PROJECT_UUID)\n",
    "        print(f\"Found {len(source_link_bases)} link bases in source project\")\n",
    "        \n",
    "        copied_count = 0\n",
    "        \n",
    "        for i, link_base in enumerate(source_link_bases):\n",
    "            try:\n",
    "                # Create link base data\n",
    "                link_data = {\n",
    "                    \"link\": link_base.get(\"link\", \"\")\n",
    "                }\n",
    "                \n",
    "                # Create in destination\n",
    "                result = create_link_base(DESTINATION_PROJECT_UUID, link_data)\n",
    "                copied_count += 1\n",
    "                print(f\"  ✅ Copied link base {i+1}/{len(source_link_bases)}: {link_data['link']}\")\n",
    "                \n",
    "                # Small delay to avoid rate limiting\n",
    "                time.sleep(0.5)\n",
    "                \n",
    "            except Exception as e:\n",
    "                print(f\"  ❌ Error copying link base {i+1}: {str(e)}\")\n",
    "        \n",
    "        print(f\"\\n✅ Successfully copied {copied_count}/{len(source_link_bases)} link bases\")\n",
    "        \n",
    "    except Exception as e:\n",
    "        print(f\"❌ Error accessing link bases: {str(e)}\")"
   ]
  },
  {
   "cell_type": "code",
   "execution_count": null,
   "metadata": {},
   "outputs": [],
   "source": [
    "# Execute link bases copy\n",
    "copy_link_bases()"
   ]
  },
  {
   "cell_type": "markdown",
   "metadata": {},
   "source": [
    "## 8. Copy File Bases"
   ]
  },
  {
   "cell_type": "code",
   "execution_count": null,
   "metadata": {},
   "outputs": [],
   "source": [
    "def copy_file_bases():\n",
    "    \"\"\"Copy all file bases from source to destination project\"\"\"\n",
    "    print(\"\\nCopying file bases...\")\n",
    "    \n",
    "    try:\n",
    "        # Get source file bases\n",
    "        source_file_bases = get_file_bases(SOURCE_PROJECT_UUID)\n",
    "        print(f\"Found {len(source_file_bases)} file bases in source project\")\n",
    "        \n",
    "        copied_count = 0\n",
    "        \n",
    "        for i, file_base in enumerate(source_file_bases):\n",
    "            try:\n",
    "                # Download the file\n",
    "                file_url = file_base.get('file')\n",
    "                if not file_url:\n",
    "                    print(f\"  ⚠️  No file URL for file base {i+1}, skipping\")\n",
    "                    continue\n",
    "                \n",
    "                print(f\"  Downloading file {i+1}/{len(source_file_bases)}...\")\n",
    "                file_content = download_file(file_url)\n",
    "                \n",
    "                # Prepare file data\n",
    "                file_data = {\n",
    "                    'filename': file_base.get('filename', f'file_{i+1}.pdf'),\n",
    "                    'extension_file': file_base.get('extension_file', 'pdf'),\n",
    "                    'load_type': file_base.get('load_type', 'pdfminer'),\n",
    "                    'content_type': file_base.get('content_type', 'application/pdf')\n",
    "                }\n",
    "                \n",
    "                # Create in destination\n",
    "                result = create_file_base(DESTINATION_PROJECT_UUID, file_data, file_content)\n",
    "                copied_count += 1\n",
    "                print(f\"  ✅ Copied file base {i+1}/{len(source_file_bases)}: {file_data['filename']}\")\n",
    "                \n",
    "                # Small delay to avoid rate limiting\n",
    "                time.sleep(1)\n",
    "                \n",
    "            except Exception as e:\n",
    "                print(f\"  ❌ Error copying file base {i+1}: {str(e)}\")\n",
    "        \n",
    "        print(f\"\\n✅ Successfully copied {copied_count}/{len(source_file_bases)} file bases\")\n",
    "        \n",
    "    except Exception as e:\n",
    "        print(f\"❌ Error accessing file bases: {str(e)}\")"
   ]
  },
  {
   "cell_type": "code",
   "execution_count": null,
   "metadata": {},
   "outputs": [],
   "source": [
    "# Execute file bases copy\n",
    "copy_file_bases()"
   ]
  },
  {
   "cell_type": "markdown",
   "metadata": {},
   "source": [
    "## 9. Complete Copy Process"
   ]
  },
  {
   "cell_type": "code",
   "execution_count": null,
   "metadata": {},
   "outputs": [],
   "source": [
    "def copy_all_project_data():\n",
    "    \"\"\"Copy all data from source to destination project\"\"\"\n",
    "    print(\"=\" * 50)\n",
    "    print(\"Starting complete project copy...\")\n",
    "    print(f\"Source: {SOURCE_PROJECT_UUID}\")\n",
    "    print(f\"Destination: {DESTINATION_PROJECT_UUID}\")\n",
    "    print(\"=\" * 50)\n",
    "    \n",
    "    # Copy agent customization\n",
    "    copy_agent_customization()\n",
    "    \n",
    "    # Copy text bases\n",
    "    copy_text_bases()\n",
    "    \n",
    "    # Copy link bases\n",
    "    copy_link_bases()\n",
    "    \n",
    "    # Copy file bases\n",
    "    copy_file_bases()\n",
    "    \n",
    "    print(\"\\n\" + \"=\" * 50)\n",
    "    print(\"✅ Project copy process completed!\")\n",
    "    print(\"=\" * 50)"
   ]
  },
  {
   "cell_type": "code",
   "execution_count": null,
   "metadata": {},
   "outputs": [],
   "source": [
    "# Execute complete copy process\n",
    "copy_all_project_data()"
   ]
  },
  {
   "cell_type": "markdown",
   "metadata": {},
   "source": [
    "## 10. Verification Functions (Optional)"
   ]
  },
  {
   "cell_type": "code",
   "execution_count": null,
   "metadata": {},
   "outputs": [],
   "source": [
    "def verify_copy():\n",
    "    \"\"\"Verify that all data was copied correctly\"\"\"\n",
    "    print(\"\\nVerifying copy results...\")\n",
    "    print(\"=\" * 50)\n",
    "    \n",
    "    try:\n",
    "        # Check agent customization\n",
    "        dest_customization = get_agent_customization(DESTINATION_PROJECT_UUID)\n",
    "        print(f\"✅ Agent customization: {dest_customization.get('agent', {}).get('name', 'N/A')}\")\n",
    "        print(f\"   Instructions count: {len(dest_customization.get('instructions', []))}\")\n",
    "        \n",
    "        # Check text bases\n",
    "        dest_text_bases = get_text_bases(DESTINATION_PROJECT_UUID)\n",
    "        print(f\"\\n✅ Text bases: {len(dest_text_bases)} items\")\n",
    "        \n",
    "        # Check link bases\n",
    "        dest_link_bases = get_link_bases(DESTINATION_PROJECT_UUID)\n",
    "        print(f\"✅ Link bases: {len(dest_link_bases)} items\")\n",
    "        \n",
    "        # Check file bases\n",
    "        dest_file_bases = get_file_bases(DESTINATION_PROJECT_UUID)\n",
    "        print(f\"✅ File bases: {len(dest_file_bases)} items\")\n",
    "        \n",
    "        print(\"\\n\" + \"=\" * 50)\n",
    "        print(\"Verification complete!\")\n",
    "        \n",
    "    except Exception as e:\n",
    "        print(f\"❌ Error during verification: {str(e)}\")"
   ]
  },
  {
   "cell_type": "code",
   "execution_count": null,
   "metadata": {},
   "outputs": [],
   "source": [
    "# Run verification\n",
    "verify_copy()"
   ]
  }
 ],
 "metadata": {
  "kernelspec": {
   "display_name": "env",
   "language": "python",
   "name": "python3"
  },
  "language_info": {
   "codemirror_mode": {
    "name": "ipython",
    "version": 3
   },
   "file_extension": ".py",
   "mimetype": "text/x-python",
   "name": "python",
   "nbconvert_exporter": "python",
   "pygments_lexer": "ipython3",
   "version": "3.10.13"
  }
 },
 "nbformat": 4,
 "nbformat_minor": 4
}
