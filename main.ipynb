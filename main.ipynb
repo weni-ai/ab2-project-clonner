{
 "cells": [
  {
   "cell_type": "markdown",
   "metadata": {},
   "source": [
    "# Weni Project Cloner\n",
    "\n",
    "This notebook copies information from one Weni project to another using the Weni API.\n",
    "\n",
    "## Features:\n",
    "1. Copy agent customization (name, role, personality, goal, instructions)\n",
    "2. Copy knowledge bases:\n",
    "   - Text bases\n",
    "   - Site/link bases\n",
    "   - File bases"
   ]
  },
  {
   "cell_type": "markdown",
   "metadata": {},
   "source": [
    "## 1. Setup and Configuration"
   ]
  },
  {
   "cell_type": "code",
   "execution_count": 1,
   "metadata": {},
   "outputs": [
    {
     "name": "stdout",
     "output_type": "stream",
     "text": [
      "Source Project: 44e71074-cc9d-40f1-9640-546572f842c8\n",
      "Destination Project: 45718786-4066-4338-9e86-f3ea525224d2\n",
      "Configuration loaded successfully!\n"
     ]
    }
   ],
   "source": [
    "import os\n",
    "import json\n",
    "import requests\n",
    "from dotenv import load_dotenv\n",
    "import time\n",
    "from typing import Dict, List, Any\n",
    "\n",
    "# Load environment variables\n",
    "load_dotenv()\n",
    "\n",
    "# Get configuration from .env\n",
    "BEARER_TOKEN = os.getenv('BEARER_TOKEN')\n",
    "SOURCE_PROJECT_UUID = os.getenv('SOURCE_PROJECT_UUID')\n",
    "DESTINATION_PROJECT_UUID = os.getenv('DESTINATION_PROJECT_UUID')\n",
    "\n",
    "# Validate configuration\n",
    "if not all([BEARER_TOKEN, SOURCE_PROJECT_UUID, DESTINATION_PROJECT_UUID]):\n",
    "    raise ValueError(\"Please ensure all required environment variables are set in .env file\")\n",
    "\n",
    "print(f\"Source Project: {SOURCE_PROJECT_UUID}\")\n",
    "print(f\"Destination Project: {DESTINATION_PROJECT_UUID}\")\n",
    "print(\"Configuration loaded successfully!\")"
   ]
  },
  {
   "cell_type": "markdown",
   "metadata": {},
   "source": [
    "## 2. API Helper Functions"
   ]
  },
  {
   "cell_type": "code",
   "execution_count": 2,
   "metadata": {},
   "outputs": [],
   "source": [
    "# Common headers for all requests\n",
    "def get_headers():\n",
    "    return {\n",
    "        'accept': 'application/json, text/plain, */*',\n",
    "        'accept-language': 'en-US,en;q=0.9,pt-BR;q=0.8,pt;q=0.7,es;q=0.6,nl;q=0.5,fr;q=0.4',\n",
    "        'authorization': f'Bearer {BEARER_TOKEN}',\n",
    "        'origin': 'https://intelligence-next.weni.ai',\n",
    "        'priority': 'u=1, i',\n",
    "        'referer': 'https://intelligence-next.weni.ai/',\n",
    "        'sec-ch-ua': '\"Not;A=Brand\";v=\"99\", \"Google Chrome\";v=\"139\", \"Chromium\";v=\"139\"',\n",
    "        'sec-ch-ua-mobile': '?0',\n",
    "        'sec-ch-ua-platform': '\"macOS\"',\n",
    "        'sec-fetch-dest': 'empty',\n",
    "        'sec-fetch-mode': 'cors',\n",
    "        'sec-fetch-site': 'same-site',\n",
    "        'user-agent': 'Mozilla/5.0 (Macintosh; Intel Mac OS X 10_15_7) AppleWebKit/537.36 (KHTML, like Gecko) Chrome/139.0.0.0 Safari/537.36'\n",
    "    }\n",
    "\n",
    "def get_headers_with_content_type():\n",
    "    headers = get_headers()\n",
    "    headers['content-type'] = 'application/json'\n",
    "    return headers\n",
    "\n",
    "def get_content_base_uuid(project_uuid: str) -> str:\n",
    "    \"\"\"Get content base UUID from project UUID using router API\"\"\"\n",
    "    url = f'https://nexus.weni.ai/api/{project_uuid}/router/'\n",
    "    \n",
    "    response = requests.get(url, headers=get_headers())\n",
    "    \n",
    "    if response.status_code == 200:\n",
    "        router_data = response.json()\n",
    "        content_base_uuid = router_data.get('uuid')\n",
    "        if content_base_uuid:\n",
    "            return content_base_uuid\n",
    "        else:\n",
    "            raise Exception(f\"No UUID found in router response for project {project_uuid}\")\n",
    "    else:\n",
    "        raise Exception(f\"Failed to get router data: {response.status_code} - {response.text}\")"
   ]
  },
  {
   "cell_type": "markdown",
   "metadata": {},
   "source": [
    "## 3. Agent Customization Functions"
   ]
  },
  {
   "cell_type": "code",
   "execution_count": 3,
   "metadata": {},
   "outputs": [],
   "source": [
    "def get_agent_customization(project_uuid: str) -> Dict[str, Any]:\n",
    "    \"\"\"Get agent customization from source project\"\"\"\n",
    "    url = f'https://nexus.weni.ai/api/{project_uuid}/customization/'\n",
    "    \n",
    "    response = requests.get(url, headers=get_headers())\n",
    "    \n",
    "    if response.status_code == 200:\n",
    "        return response.json()\n",
    "    else:\n",
    "        raise Exception(f\"Failed to get agent customization: {response.status_code} - {response.text}\")\n",
    "\n",
    "def update_agent_customization(project_uuid: str, customization_data: Dict[str, Any]) -> Dict[str, Any]:\n",
    "    \"\"\"Update agent customization in destination project\"\"\"\n",
    "    url = f'https://nexus.weni.ai/api/{project_uuid}/customization/'\n",
    "    \n",
    "    response = requests.put(url, headers=get_headers_with_content_type(), json=customization_data)\n",
    "    \n",
    "    if response.status_code in [200, 201]:\n",
    "        return response.json()\n",
    "    else:\n",
    "        raise Exception(f\"Failed to update agent customization: {response.status_code} - {response.text}\")"
   ]
  },
  {
   "cell_type": "markdown",
   "metadata": {},
   "source": [
    "## 4. Knowledge Base Functions"
   ]
  },
  {
   "cell_type": "code",
   "execution_count": 4,
   "metadata": {},
   "outputs": [],
   "source": [
    "# Text Base Functions\n",
    "def get_text_bases(content_base_uuid: str) -> List[Dict[str, Any]]:\n",
    "    \"\"\"Get all text bases from content base\"\"\"\n",
    "    url = f'https://nexus.weni.ai/api/{content_base_uuid}/content-bases-text/'\n",
    "    \n",
    "    response = requests.get(url, headers=get_headers())\n",
    "    \n",
    "    if response.status_code == 200:\n",
    "        return response.json()\n",
    "    else:\n",
    "        raise Exception(f\"Failed to get text bases: {response.status_code} - {response.text}\")\n",
    "\n",
    "def create_text_base(content_base_uuid: str, text_data: Dict[str, str]) -> Dict[str, Any]:\n",
    "    \"\"\"Create a text base in destination content base\"\"\"\n",
    "    url = f'https://nexus.weni.ai/api/{content_base_uuid}/content-bases-text/'\n",
    "    \n",
    "    response = requests.post(url, headers=get_headers_with_content_type(), json=text_data)\n",
    "    \n",
    "    if response.status_code in [200, 201]:\n",
    "        return response.json()\n",
    "    else:\n",
    "        raise Exception(f\"Failed to create text base: {response.status_code} - {response.text}\")\n",
    "\n",
    "def update_text_base(content_base_uuid: str, text_base_uuid: str, text_data: Dict[str, str]) -> Dict[str, Any]:\n",
    "    \"\"\"Update an existing text base in destination content base\"\"\"\n",
    "    url = f'https://nexus.weni.ai/api/{content_base_uuid}/content-bases-text/{text_base_uuid}/'\n",
    "    \n",
    "    response = requests.put(url, headers=get_headers_with_content_type(), json=text_data)\n",
    "    \n",
    "    if response.status_code in [200, 201]:\n",
    "        return response.json()\n",
    "    else:\n",
    "        raise Exception(f\"Failed to update text base: {response.status_code} - {response.text}\")"
   ]
  },
  {
   "cell_type": "code",
   "execution_count": 5,
   "metadata": {},
   "outputs": [
    {
     "name": "stdout",
     "output_type": "stream",
     "text": [
      "Source content base UUID: bedaa02d-b6fe-4a19-abf9-e2e4e87beaaa\n",
      "Destination content base UUID: 3bea9443-4f5b-4736-97d7-dfd2285fe00a\n",
      "Found 1 text bases in source\n",
      "Found 3 text bases in destination\n",
      "First source text base: {'text': 'Canais de atendimento:\\n- Entre em contato com a Central do cliente: \\nTelefone: 3003-3400 na opção 3\\nSegunda a sexta: das 08h às 18h\\nSábados: das 08h às 13h\\nWhatsapp no link: https://wa.me/551130033400\\nou pelo portal do cliente: https://portalcliente.obramax.com.br\\n- Entre em contato com o Televendas pelo Telefone: 3003-3400 na opção 2\\nSegunda a sexta: das 08h às 18h Sábados: das 08h às 13h\\nou Faça seu orçamento no Orçamax acessando o link https://www.obramax.com.br/orcamax\\n\\nO cliente pode retirar o seu pedido nas nossas lojas físicas de acordo com a loja escolhida no checkout:\\nNOSSAS LOJAS FÍSICAS:\\n- ES - Cariacica:\\nAv. Mário Gurgel, S/N- Oriente, Cariacica - ES, 29147-345\\nSegunda a Sábado das 7h às 21h\\nDomingos das 9h às 17h\\nFeriados das 8h às 18h\\nGoogle Maps: https://maps.app.goo.gl/oeRqLmDGpyMRJ7Aw5\\n- RJ - Benfica:\\nAv. Brasil, 3666 - Benfica\\nSegunda a Sábado das 7h às 21h\\nDomingos das 9h às 17h\\nFeriados das 8h às 18h\\nGoogle Maps: https://maps.app.goo.gl/2wVv6AdGJJRqZk276\\n- RJ - Duque de Caxias:\\nRua Jose da Silva Pereira, S/N Lote 05 B - Pilar - Duque de Caxias\\nSegunda a Sábado das 7h às 21h\\nDomingos das 9h às 17h\\nFeriados das 8h às 18h\\nGoogle Maps: https://maps.app.goo.gl/1LpB8kdm1epvYHdT7\\n- RJ - Guadalupe:\\nAvenida Brasil, 22693 - Guadalupe\\nSegunda a Sábado das 7h às 21h\\nDomingos das 9h às 17h\\nFeriados das 8h às 18h\\nGoogle Maps: https://maps.app.goo.gl/KnV8cY4eD2U2jCT88\\n- RJ - Jacarepaguá:\\nEstrada dos Bandeirantes, 3091 - Jacarepaguá\\nSegunda a Sábado das 7h às 21h\\nDomingos das 9h às 17h\\nFeriados das 8h às 18h\\nGoogle Maps: https://maps.app.goo.gl/VqtWgt5o22SLweww9\\n- RJ - Mesquita:\\nRod. Presidente Dutra, s/n Área 1B - Mesquita\\nSegunda a Sábado das 7h às 21h\\nDomingos das 9h às 17h\\nFeriados das 8h às 18h\\nGoogle Maps: https://maps.app.goo.gl/kPhZzk7oWhcx83PQA\\n- SP - Mooca:\\nAvenida do Estado, 6.313 - Mooca\\nSegunda a Sexta das 07h às 22h\\nSábados das 7h às 22h\\nDomingos das 9h às 17h\\nFeriados das 7h às 22h\\nGoogle Maps: https://maps.app.goo.gl/j9jub4CjjF6tfKDk6\\n- SP - Piracicaba:\\nAv Irmã Maria Felicíssima, 201 - Santa Rita\\nSegunda a Sábado das 07h às 21h\\nDomingos das 9h às 17h\\nFeriados das 8h às 20h\\nGoogle Maps: https://maps.app.goo.gl/wdhJ9ean983MQaBU9\\n- SP - Praia Grande:\\nAv. Ministro Marcos Freire, 1.500 - Jd. Glória\\nSegunda a Sábado das 07h às 21h\\nDomingos das 9h às 17h\\nFeriados das 8h às 20h\\nGoogle Maps: https://maps.app.goo.gl/EQEmVDKQuQ4pXNaEA\\n- SP - Suzano:\\nR. Prudente de Moraes, 1575 - Suzano\\nSegunda a Sábado das 7h às 21h\\nDomingos das 9h às 17h\\nFeriados das 8h às 20h\\nGoogle Maps: https://maps.app.goo.gl/MJsjtq2cjwb3cEg4A\\n\\nQuer retirar na loja? É fácil:\\n1) Compre como quiser\\nNo site, Televendas (exclusivo para Pessoa Jurídica) ou WhatsApp. Escolha a opção Retira Fácil no momento da compra.\\n2) Aguarde a confirmação do pagamento\\nAssim que o pagamento for aprovado, você receberá uma mensagem por e-mail e WhatsApp.\\nImportante: Mantenha seus dados de contato sempre atualizados para não perder nenhuma notificação.\\n3) Acompanhe a separação do seu pedido\\nQuando tudo estiver pronto, você será novamente notificado para ir até a loja fazer a retirada.\\n4) Retire seu pedido!\\nVá até a loja Obramax escolhida e dirija-se à área exclusiva do Retira Fácil, localizada no estacionamento.\\nNo momento da retirada, apresente o QR Code ou Código validador que você recebeu por e-mail ou WhatsApp. É rápido e seguro!\\nSe outra pessoa for retirar por você, tudo certo! Basta que ela apresente o QR Code ou Código validador e um documento de identificação com foto. A retirada será concluída com total segurança.\\nAtenção: A retirada e o transporte do material são de responsabilidade do cliente. A Obramax não realiza o carregamento em veículos particulares.\\n*Números WhatsApp:\\nMooca: (11) 3003-3400\\nPiracicaba: (19) 3003-3400\\nPraia Grande: (13) 3003-3400\\nRio de Janeiro: (21) 3003-3400\\nSuzano: (11) 3003-3400\\nCompras realizadas até as 11h estarão disponíveis para retirada no dia seguinte à compra.\\n\\nPolítica de Troca e Devolução de Produto\\n2. Contato\\nCaso o Usuário necessite de qualquer informação, esclarecimento ou atendimento com relação a esta Política de Troca e Devolução de Produtos, a Obramax disponibiliza o atendimento para receber todas as comunicações que o Usuário desejar fazer. O nosso atendimento opera por meios dos canais de comunicação listados abaixo:\\n(a) presencialmente, na loja física Obramax em que foi efetuada a compra, durante os horários de funcionamento: Segunda a Sábado das 07h00 às 21h00 e Domingos das 09h00 às 17h00.\\n(b) pelo telefone 3003-3400, Segunda a Sexta das 08h00 às 18h00 e Sábados e feriados das 08h00 às 16h00;\\n(c) pelo nosso formulário de contato ou clicando aqui. Em todos os casos, o Usuário receberá, pelo mesmo canal de comunicação, uma confirmação imediata do recebimento da sua demanda, que será tratada e respondida em um prazo máximo de 5 (cinco) dias.\\n\\n3. Modalidades\\n3.1. Em atendimento à legislação de proteção e defesa do consumidor, a Obramax disponibiliza 2 (duas) modalidades de troca ou devolução de produtos: (i) por arrependimento do consumidor; e (ii) por defeito do produto (vício).\\n3.2. A troca/devolução por arrependimento do consumidor, é valido somente nas modalidades de compra por e-commerce e televendas.\\n\\n4. Devolução ou Troca por arrependimento do Cliente (no prazo legal)\\n4.1. Caso se arrependa de uma compra realizada no Site, o Cliente poderá informar à Obramax por meio de nosso telefone 3003 - 3400 e requerer a devolução do produto e o cancelamento da compra. O Cliente terá 7 (sete) dias corridos, contados da data de recebimento do Produto, para informar seu arrependimento. Se este prazo terminar em um sábado, domingo ou feriado, o Cliente poderá exercer o seu direito de arrependimento até o primeiro dia útil subsequente. O exercício do direito de arrependimento será processado da seguinte forma:\\n4.2. Contato com a Obramax – 3003 – 3400 / formulário de contato ou clicando aqui. Para exercer seu direito legal de arrependimento, o Cliente deverá contatar a Obramax a fim de solicitar o cancelamento da Compra. É importante que o Cliente informe neste contato o número da nota fiscal e o nome completo do Produto, além de confirmar seus dados pessoais.\\n4.3. Envio do produto à Obramax. O Cliente terá duas opções para a devolução do produto à Obramax:\\n(a) entregando-o na loja física em que foi realizada a compra, com a respectiva nota fiscal de aquisição (para compras em loja física, e-commerce e televendas); ou,\\n(b) a Obramax poderá, a seu exclusivo critério, retirar o Produto em local indicado pelo Cliente, mediante prévio agendamento (para compras no e-commerce e televendas).\\n4.4. Condições do produto. Ao receber o Produto, a Obramax verificará se o mesmo está em condições adequadas, ou seja, se: (i) está em sua embalagem original, com todos os manuais, certificados de garantia, partes e acessórios; e (ii) está sem indícios de testes, provas ou uso.\\n4.5. Negativa do arrependimento. Caso o Produto não esteja em condições adequadas conforme descrito no item 4.4, a Obramax notificará o Cliente para informar que o direito ao arrependimento não poderá ser exercido, devendo o Cliente retirar o Produto em questão ou arcar com os custos de frete para nova entrega do Produto\\n4.6. Devolução dos valores pagos. Caso o Produto esteja em condições adequadas, a Obramax notificará o Cliente informando que aceitou o Produto devolvido e, em caso de troca a Obramax enviará um novo produto escolhido pelo Cliente e/ou no caso de cancelamento do pedido, a Obramax providenciará a devolução integral dos valores pagos pelo Cliente para a aquisição do Produto, incluindo devolução do preço e dos custos com o frete. Será permitido que o Cliente opte por (i) emissão de um Vale Compras no valor total do Produto, para utilização em compras futuras na loja física da Obramax em que foi realizada a compra inicial, com o estorno do valor total do frete no cartão de crédito ou (ii) estorno no valor total do pagamento feito pelo Cliente (incluindo preço do produto e frete).\\n4.7. Se o arrependimento ocorrer com relação a apenas um dos itens adquiridos ou alguns produtos constantes de um pedido, a devolução dos custos de frete será proporcional, sempre através de estorno no cartão de crédito. O valor do frete proporcional será calculado com base no valor do frete pago e peso do produto devolvido.\\n4.8. A devolução de pagamentos feitos por cartão de crédito será realizada por meio de estorno do lançamento, a ser solicitado pela Obramax à administradora do cartão de crédito utilizado em, no máximo, 72 (setenta e duas) horas após a aceitação e validação das condições do produto devolvido.\\n4.8.1. O prazo de efetivação do estorno é de exclusiva responsabilidade da administradora do cartão e será realizada de acordo com as regras e condições dessa empresa. Em compras pagas com a opção Boleto Bancário, a restituição será efetuada por meio de depósito bancário, em até 10 (dez) dias úteis, a contar do recebimento do produto na loja da Obramax e somente na conta corrente do(a) comprador(a), que deve ser individual.\\n\\n5. Devolução ou Troca por defeito no produto (em até sete dias)\\n5.1. Se o produto adquirido no Site por qualquer Cliente apresentar algum defeito ou avaria, o Cliente poderá solicitar a sua devolução ou troca por meio de telefone ou e-mail 3003 – 3400 / formulário de contato ou clicando aqui . O Cliente terá 7 (sete) dias corridos, contados da data de recebimento do produto, para informar a existência do defeito e requerer a troca ou a devolução. Se este prazo terminar em um sábado, domingo ou feriado, o Cliente poderá reportar a existência do defeito até o primeiro dia útil subsequente. A análise do pedido de troca ou devolução será processada da seguinte forma.\\n5.1.1. Contato com a Obramax 3003 – 3400 / formulário de contato ou clicando aqui. O Cliente deverá nos contatar a fim de informar a existência do defeito. É importante que o Cliente informe neste contato o número da nota fiscal, o nome completo do produto e o defeito apresentado, além de confirmar seus dados pessoais.\\n5.1.2. Envio do produto à Obramax. O Cliente terá duas opções para a devolução do produto com defeito à Obramax:\\n(a) entregando-o na loja física da Obramax em que foi realizada a compra com a respectiva nota fiscal de aquisição; ou,\\n(b) a Obramax poderá, a seu exclusivo critério, retirar o Produto em local indicado pelo Cliente, mediante prévio agendamento.\\n5.1.3. Condições do produto. Ao receber o produto, a Obramax verificará as suas condições, sendo que: (i) o Produto deverá estar em sua embalagem original, com todos os manuais, certificados de garantia, partes e acessórios; (ii) o defeito apresentado no produto deverá corresponder à descrição feita pelo Cliente; e (iii) o produto não deve ter sinais de mau uso pelo Cliente.\\n5.2. Negativa da troca ou devolução. Se o produto não preencher as condições para troca ou devolução, a Obramax notificará o Cliente para retirar o produto em questão em uma de suas lojas físicas ou para arcar com os custos de frete para nova entrega do produto.\\n5.3. Aceitação da troca ou devolução. Caso o produto esteja em condições adequadas, a Obramax notificará o Cliente a aceitação e validação das condições do produto devolvido e permitirá que o Cliente opte pelo (i) envio de produto idêntico, de mesma marca, linha, modelo e versão, sem qualquer custo adicional ou (ii) emissão de um Vale Compras no valor total do produto, para utilização em compras futuras na loja física da Obramax em que foi realizada a compra com o estorno do valor total do frete do cartão de crédito.\\n5.4. Havendo indisponibilidade do produto a ser trocado, o Cliente poderá optar: (i) pelo crédito no valor total do produto para utilização em compras futuras em qualquer loja física da Obramax ou pelo televendas com o estorno do valor total do frete do cartão de crédito, (ii) pela troca imediata por qualquer produto disponível na Obramax, com compensação em caso de diferença no preço; (iii) pela devolução do valor do produto, nos termos do item 4.8 acima.\\n5.5. Se a devolução ocorrer com relação a apenas um dos itens adquiridos ou alguns produtos constantes de um pedido, a devolução dos custos de frete será proporcional, sempre através de estorno no cartão de crédito ou crédito em conta, caso o pagamento tenha sido realizado através de Boleto Bancário. O valor do frete proporcional será calculado com base no valor do frete pago e peso do produto devolvido.\\n\\n6. Devolução ou Troca por defeito no produto (após mais de sete dias)\\n6.1. A devolução do produto com o cancelamento da compra. Após o prazo de 7 (sete) dias para devolução da compra, em decorrência de produto defeituoso, o Cliente deverá solicitar a sua devolução por meio de telefone ou e-mail 3003 – 3400 / formulário de contato ou clicando aqui, que será processado da seguinte forma:\\n6.1.1. Contato com a Obramax para solicitar o cancelamento da compra. O Cliente deverá contatar por meio de telefone ou e-mail 3003 – 3400 / formulário de contato ou clicando aqui, a fim de solicitar o cancelamento da Compra. É importante que o Cliente informe neste contato o número da nota fiscal e o nome completo do produto, além de confirmar seus dados pessoais.\\n6.1.2. Envio do produto à Obramax. O Cliente terá duas opções para a devolução do produto à Obramax: (a) entregando-o na loja física da Obramax em que foi realizada a compra com a respectiva nota fiscal de aquisição; ou (b) a Obramax poderá, a seu exclusivo critério, retirar o produto em local indicado pelo Cliente, mediante prévio agendamento (somente para e-commerce e televendas).\\n6.1.3. A devolução dos valores pagos ocorrerá nos termos do item 4.8 acima.\\n6.2. A troca do produto após o prazo de 7 (sete) dias e até o limite da garantia legal (30 (trinta) dias para bens não duráveis e 90 (noventa) dias para bens duráveis), mediante a apresentação do laudo da assistência técnica, comprovando o vício no produto respectivo, o Cliente terá duas opções para a devolução do produto à Obramax entregando-o em qualquer loja física da Obramax com a respectiva nota fiscal de aquisição\\n6.2.1. Caso o vício não seja sanado em 30 (trinta) dias, o Cliente poderá optar por (i) emissão de um Vale Compras no valor total do produto, para utilização em compras futuras para utilização em compras futuras na loja física da Obramax em que foi realizada a compra, com o estorno do valor total do frete do cartão de crédito se esse foi o único produto adquirido ou estorno proporcional se haviam outros produtos na compra, (ii) estorno no valor total do pagamento feito pelo Cliente (incluindo preço do produto e frete) ou estorno no valor do produto devolvido e estorno do valor proporcional do frete. O valor do frete proporcional será calculado com base no valor do frete pago e peso do produto devolvido ou (iii) depósito em conta, caso o pagamento tenha sido realizado via Boleto Bancário (incluindo preço do produto e frete).\\n6.2.2. Ao término da garantia legal, o Cliente deverá se valer da garantia fornecida pelo fabricante, nos termos do certificado de garantia que acompanha o Produto e com suporte na nota fiscal original. A Obramax sempre auxiliará o Cliente na localização dos serviços de assistência técnica dos fabricantes.\\n\\n7. Política de Devolução - Boleto Faturado (Pessoa Jurídica)\\n7.1. O Cliente deve comparecer na Loja de origem do pedido de venda, com os produtos e espelho da NF (Nota Fiscal) para devolução da mercadoria.\\n7.2. Caso a devolução seja total, efetuamos o abatimento dos valores (cancelamento de pedido de venda.).\\n\\n8. Condições Gerais para Troca e Devolução de Produto – Loja Física\\n8.1. A Obramax possui o serviço de troca, isto significa que desde que as condições abaixo sejam respeitadas, nós faremos prontamente a troca de seu(s) produto(s) adquirido(s) conosco:\\n8.2. É obrigatório que o Cliente apresente seu CPF junto do cupom fiscal e/ou nota fiscal. Caso não tenha mais o cupom, só será possível localizar sua compra mediante apresentação de dados sensíveis, como por exemplo: dados do cartão de crédito ou débito, data e valor da compra. Importante: pagamentos em dinheiro ou PIX NÃO são possíveis de localizar;\\n8.3. Os produtos sem vício/defeito, o prazo máximo de troca é de até 30 dias após a emissão do cupom fiscal/nota fiscal;\\n8.4. A embalagem do produto deverá estar em perfeito estado e o produto em condições de venda;\\n8.5. O produto esteja sem utilização ou instalação;\\n8.6. Os produtos adquiridos em saldo, sob encomenda, por metro e tintas preparadas no centro de cores ficam sem possibilidade de devolução.\\n8.7. Os produtos que possuem partes de vidro são conferidos no caixa. Sendo assim a troca só será realizada caso o produto esteja em perfeitas condições;\\n8.8. Produtos cerâmicos poderão ser trocados somente se estiverem com vício ou defeito;\\n8.9. Eletro/Eletrônicos, Aquecedores, Móveis e Máquinas em geral, quando apresentarem sinais de instalação e/ou utilização poderão ser trocadas somente com a apresentação de um laudo técnico e acompanhado de todos os componentes e manual;\\n8.10. Produtos com defeito deverão ser trocados na unidade onde foram adquiridos.\\n\\nPolítica de Entrega e Retira\\nPadrão de Entrega:\\n4.1. Padrão de Entrega\\nA OBRAMAX tem pleno conhecimento que qualquer atraso na entrega dos produtos na obra dos nossos clientes, causa muitos transtornos no dia a dia e enormes aborrecimentos. Sensível a isso e pensando em uma solução para esse problema, a OBRAMAX decidiu estruturar uma equipe especializada para disponibilizar a entrega na quantidade e prazo solicitado, assegurando o melhor serviço prestado neste segmento. Para tanto, ressaltamos as condições básicas necessárias:\\n1- Ato da Compra\\nO cliente deve certificar-se que seu pedido está de acordo com suas NECESSIDADES X ESPECIFICAÇÕES (dados cadastrais completos, quantidade suficiente, descrição clara, endereço de entrega correto e pagamento finalizado). Sempre que possível, disponibilizar mais de um telefone para contato, assim garantimos a assertividade e pontualidade no dia da entrega;\\n2- Prazo de Entrega\\nO prazo de entrega é definido a partir da opção de entrega selecionada, da disponibilidade do estoque e do endereço de destino final. A Obramax informará ao cliente a data de entrega dos produtos após a confirmação do pagamento, que por motivos de segurança pode demorar até 48 horas.\\n\\nCoberturas e prazos de entrega:\\n1.1 Áreas de coberturas\\nA OBRAMAX realiza suas entregas por meio de frota própria ou terceiros contratados. Atendendo a todos os tipos de pedidos em um raio de até 20km de distância da Loja física.\\nImportante: antes de finalizar sua compra, faça uma simulação de entrega para seu CEP se sua região é atendida.\\n1.2 Prazos de entrega\\nDurante o processo de compra, a OBRAMAX informará ao cliente a previsão do prazo de entrega do pedido. O prazo será contado a partir da data de aprovação do pagamento do pedido.\\nEntregas localizadas nas regiões com restrição de circulação de caminhões (DECRETO Nº 49.487, DE 12 DE MAIO DE 2008) e restrição de placas (DECRETO Nº 37.085 – DE 3 DE OUTUBRO DE 1997), a OBRAMAX indicará melhor alternativa para entrega, visando o cumprimento das legislações de trânsito, bem como a necessidade do cliente.\\n\\nValor do frete:\\nO valor do frete da entrega dos pedidos é calculado automaticamente no site antes mesmo de finalizar a compra. O cálculo considera: peso total do pedido (kg), volume, quantidade de produtos e distâncias.\\nA OBRAMAX poderá também disponibilizar outras formas especiais de frete para algumas localidades, de forma definitiva ou temporária.\\n\\nCondições de entrega:\\nPara que a entrega seja realizada, é necessário que o Cliente esteja presente no momento da entrega ou autorize uma pessoa maior de 18 anos (amigos, parentes, porteiros e/ou outros) apto a receber e conferir todos os itens solicitados. O responsável deverá assinar, colocar nome de forma legível e nº documento de identidade, no canhoto da DANFE (Nota Fiscal). No caso de empresa, será necessário carimbo contendo CNPJ e Razão Social.\\nÉ necessário que o cliente certifique que as dimensões do produto são compatíveis com as dimensões dos acessos: portas, passagens, portal da portaria (passagem do caminhão) e corredores do local de entrega (desobstruídos) por ele escolhido.\\nTodos os produtos serão entregues no endereço declarado para entrega (no térreo, ponto de descarga até 50 metros). Caso haja a necessidade de remoção para outro local, fica a cargo do Cliente.\\nAs entregas em edifícios e ou condomínios serão realizadas na portaria ou local indicado para recebimento, sendo de fácil acesso para a equipe de entrega, onde o cliente será o responsável pela guarda e transporte dos produtos (andar e unidade).\\nA OBRAMAX realiza a entrega dos pedidos embalados em: caixas, sacos, bags, chapas, paletes e amarrados.\\nPara embalagens retornáveis a reversa será realizada no momento da entrega.\\nOs entregadores da OBRAMAX NÃO estão autorizados a:\\na) Transportar materiais por escadarias, rampas, elevadores, passagens de difícil acesso, estreitos e distantes do ponto de parada do veículo (superior a 50 metros);\\nb) Instalar, montar ou desmontar os produtos das entregas;\\nc) Cobrar e/ou receber valor adicional no ato da entrega;\\nd) Entregar pedidos com hora marcada.\\nOBS.: (i) Necessário que o cliente esteja presente no momento da entrega ou autorize uma pessoa maior de 18 anos para poder receber a mercadoria;\\n(ii) Aos sábados, sujeito às regras e horários de recebimento do condomínio.\\nNota:\\nTamanhos dos nossos veículos:\\nMaior: Largura: 3,00m; comprimento: 11m; altura: 3,70m\\nMenor: Largura: 2,60m; comprimento: 4m; altura: 3,40m\\nAcesso para entregadores pedestres:\\nMínimo: Largura: 0,80m; altura: 2,20m\\n\\nEntregas passíveis de ressalvas:\\nO Cliente e/ou responsável pelo recebimento da mercadoria, poderá receber a entrega com eventuais ocorrências, desde que realize ressalva no verso do canhoto da Nota Fiscal, mencionando o fato, com letra legível e dados de identificação. O fato também poderá ser registrado na Central do Cliente, pelo telefone 3003-3400 opção 3 ou WhatsApp.\\n\\nEntregas parciais:\\nNão é permitida a entrega parcial da Nota Fiscal, ou seja, a OBRAMAX tem por obrigação legal entregar o total dos itens declarados na Nota Fiscal. No impedimento da realização da entrega nessas condições, o retorno da mercadoria, também, se dará pela sua totalidade.\\n\\nTentativas de entrega:\\nA OBRAMAX realiza a entrega dos produtos adquiridos pelos Clientes no endereço e prazos declarados na conclusão do pedido. O pedido retornará à loja, caso não seja possível realizar a entrega devido a:\\na) Ausência do Cliente e/ou pessoa autorizada no endereço de entrega;\\nb) Restrições de recebimento do edifício/condomínio não declaradas no momento da compra;\\nc) Limitações físicas que impeçam a entrega;\\nd) Endereço incorreto.\\nA OBRAMAX será responsável por contatar o cliente para negociar uma nova data para entrega. Na tentativa de re-entregar e na reincidência do fato, ou seja, impossibilitando a conclusão do serviço, a OBRAMAX efetuará o cancelamento da venda e o crédito no valor será lançado na conta do Cliente.\\n\\nRecusa na Entrega:\\nÉ recomendado ao Cliente e/ou responsável pelo recebimento de mercadorias entregues pela OBRAMAX, que confira o pedido produto a produto. Em eventual anomalia da entrega, poderá o cliente recusar conforme abaixo:\\na) Se a embalagem estiver violada (lacre rompido) ou danificada;\\nb) Se o produto estiver avariado;\\nc) Se os produtos entregues não correspondem com os produtos solicitados no pedido (quantidade e/ou especificação);\\nd) Se o conteúdo das embalagens estiver incompleto, sem partes ou acessórios dos produtos adquiridos;\\ne) Se o pedido estiver em desacordo com os prazos e preços.\\nO Cliente poderá entrar em contato com a Central do Cliente, pelo telefone 3003-3400 opção 3 ou WhatsApp para imediato registro e encaminhamento da solução. Caso haja o recebimento indevido do produto, o Cliente poderá requerer sua troca apenas nos casos previstos na Política de Trocas e Devoluções.\\n\\nDevolução por erro de informação no cadastro/pedido:\\nA OBRAMAX não se responsabiliza por:\\na) Informação errônea de endereços no cadastro básico do Cliente;\\nb) Desatualização / erro de declaração de endereço de entrega no momento da conclusão do pedido.\\nOs dados básicos de cadastro, são de inteira responsabilidade do Cliente, nos quesitos veracidade, fidedignos e completo.\\nO cliente deve, no momento da conclusão do pedido, conferir a correta informação de seus dados cadastrais, inclusive endereço de entrega completo.\\nCaso o cliente tenha algum imprevisto e não consiga receber o pedido no dia programado para a entrega, pedimos a gentileza de entrar em contato com a Central do Cliente, pelo telefone 3003-3400 *Opção 3 e reprogramar a entrega para data mais adequada.\\n\\nAlterações no pedido/atrasos:\\n11.1. Alterações no pedido\\nApós a finalização/aprovação em nossos sistemas, a OBRAMAX não aceita alterações no pedido, tais como: forma de pagamento, quantidade, data de entrega e modalidade de entrega.\\n11.2. Ocorrência de Atrasos\\nEm eventuais situações de atrasos, consideramos eventos de causa fortuitos e de força maior, tais como:\\na) Indicação de endereço errado, incompleto ou inexistente;\\nb) Fatores naturais (chuvas, enchentes e calamidade pública);\\nc) Fatores humanos (greves, manifestações e acidentes).\\nNestes casos, a OBRAMAX fará o possível para manter o Cliente informado, explicando o evento e negociando uma nova data de entrega.\\n\\nRetira Fácil:\\nO Retira Fácil é um serviço que permite a retirada de pedidos realizados pelo site, Televendas (exclusivo para Pessoa Jurídica) ou WhatsApp, diretamente em uma das lojas físicas Obramax.\\nO cliente pode escolher essa opção no momento da compra.\\nEste serviço possui um valor fixo de R$ 9,99, referente à separação e manuseio do pedido.\\nApós a aprovação do pagamento, o cliente receberá uma notificação por e-mail e WhatsApp assim que o pedido estiver pronto para retirada. Mantenha seus dados cadastrais atualizados para garantir o recebimento das notificações.\\n12.1) Como funciona a retirada: a retirada deve ser feita na loja escolhida, na área exclusiva do Retira Fácil, localizada no estacionamento.\\nNo momento da retirada, será necessário apresentar: o QR Code ou Código validador recebidos por e-mail e WhatsApp e um documento oficial com foto da pessoa que estiver retirando o pedido.\\nQuem pode retirar: titular da compra ou terceiro de confiança.\\nRetirada por terceiros: basta que a pessoa apresente: o QR Code ou Código validador e um documento de identificação com foto. A verificação será feita no momento da retirada, de forma rápida e segura.\\n12.2) Prazo para retirada: o pedido ficará disponível para retirada por até 72 horas após a notificação. Se a retirada não for realizada dentro desse prazo, o pedido será cancelado automaticamente e o valor convertido em crédito online para uso futuro.\\nPara mais informações, acesse: https://www.obramax.com.br/retira-facil\\n\\nSobre a Obramax:\\nPara aqueles que precisam construir ou reformar, Obramax é a primeira loja pensada para facilitar a vida deles, oferecendo uma experiência omnicanal totalmente desenhada para suas necessidades, com produtos técnicos à um preço extremamente atrativo.\\nFazemos isso porque acreditamos que assim melhoramos as construções e a vida de todos os brasileiros.\\nQuem somos: Obramax: Orgulho de ser da obra, como você.\\nSomos o maior atacarejo de material de construção focado em você, profissional da obra, e com as melhores condições para todo mundo que vai construir ou reformar.\\nAqui, você vai encontrar tudo o que precisa da fundação ao acabamento, na quantidade que precisa, com disponibilidade imediata e a garantia de preços competitivos o ano todo.\\nTemos orgulho de entender e atender você da melhor maneira possível. Temos orgulho de ser da obra.\\n- Visão: Revolucionamos a experiência de compra ao torná-la incrivelmente fácil, profissional confiável e amigável. Para atingir e sempre renovar essa ambição, ajudamos incansavelmente nossas equipes e nossos clientes a se superarem. Fazemos a diferença na vida dos brasileiros.\\n- Missão: Ser o parceiro confiável dos profissionais e consumidores finais pragmáticos garantindo uma economia de tempo, energia e dinheiro na realização de seus projetos de construção, reforma, instalação e manutenção residencial e comercial de pequeno e médio porte.\\n- Valores: Proximidade, Partilha, Transparência, Paixão, Gosto por empreender, Compromisso com o resultado\\nConheça o grupo Adeo:\\nFazemos parte do Grupo Adeo, 3º maior grupo varejista de materiais de construção do mundo, o 1º na Europa e no Brasil. Nasceu em 1923, com a marca Leroy Merlin (pelo casal Adolphe Leroy e Rose Merlin) e hoje é comandada pela Associação Familiar Mulliez (AFM). Atualmente, está presente em 15 países, com mais de 800 pontos de vendas divididos em 14 marcas independentes. A instituição faturou mais de 23 bilhões de euros em 2018, atendendo mais de 450 milhões de clientes por dia no mundo.\\n\\nPerguntas frequentes\\nPor que se cadastrar?\\nAo se cadastrar, garantimos mais segurança para suas compras, além de manter seus dados atualizados para a entrega dos produtos.\\n\\nComo fazer meu cadastro?\\n1. Clique em \"Entre ou Cadastre-se\" no canto superior direito do site.\\n2. Escolha entre pessoa física ou jurídica.\\n3. Digite seu CPF ou CNPJ e complete os dados solicitados.\\n\\nRecuperar/Alterar senha\\n1. Clique em \"Entre ou Cadastre-se\" no canto superior direito.\\n2. Escolha \"Esqueci minha senha\".\\n3. Siga o e-mail recebido para cadastrar a nova senha.\\n\\nAlterar cadastro\\nMantenha seus dados atualizados para facilitar o contato e entrega dos pedidos:\\n1. Faça login em \"Entre ou Cadastre-se\".\\n2. Selecione \"Sua Conta\" e depois \"Editar\" para atualizar as informações.\\n\\nAcompanhar pedido\\nFaça login e acesse \"Meus Pedidos\" em sua conta. Receba atualizações por e-mail ou WhatsApp.\\n\\nPor que pedem meu CPF?\\nSeu CPF e outros dados são essenciais para validar sua compra, garantir a entrega correta e emitir notas fiscais.\\n\\nComo solicitar um orçamento?\\nAcesse este link: https://www.obramax.com.br/orcamax e envie sua lista de compras para receber sua cotação em até 48 horas.\\n\\nServiços de instalação e montagem\\nNão oferecemos esses serviços, recomendamos buscar profissionais qualificados em sua região.\\n\\nReservar/Encomendar produtos\\nNão realizamos reservas. Compre pelo site ou Televendas e escolha \"Retira Fácil\" para retirar na loja após pagamento aprovado.\\n\\nCompra não foi aprovada\\nSe seu pedido foi cancelado, entre em contato com a CENTRAL DO CLIENTE pelo telefone 3003-3400 (opção 3) ou abra uma solicitação pelo Portal do Cliente: https://portalcliente.obramax.com.br/csm?_gl=1*1w5bcdj*_gcl_au*MjA0MTYyMDYxMy4xNzUzOTg4MTU5\\n\\nPrazo de aprovação do pagamento (pedidos do site)\\n- Cartão de Crédito: até 48 horas do pagamento\\n- Boleto Bancário: até 48 horas do pagamento\\n- PIX: Imediato\\n\\nFormas de pagamento - Loja Física:\\n- Cartões de Crédito das bandeiras: Visa, Mastercard, Elo, Hiper, Diners, American Express.\\n- PIX\\n- Venda Faturada para pessoa jurídica.\\n\\nFormas de pagamento - Site e Televendas:\\n- Cartões de Crédito das bandeiras: Visa, Mastercard, Elo, Hipercard, American Express e Diners Club.\\n- PIX\\n- Transferência PIX (exclusivo para Televendas).\\n- Boleto Bancário\\n- Venda Faturada* para pessoa jurídica (Televendas e lojas físicas)\\n*Mediante prévia aprovação de crédito.\\n\\nÉ possível utilizar duas formas de pagamento? Loja física: sim. Site e Televendas: não.\\n\\nAlterar forma de pagamento: Não é possível. É necessário cancelar e refazer o pedido com a nova forma de pagamento desejada.\\n\\nCondições de parcelamento: Parcelamento em até 12x com acréscimo de 1% por parcela.\\n\\nComprar por boleto faturado: É necessário ter CNPJ válido, se cadastrar e aguardar a aprovação do crédito. Clique aqui: https://www.obramax.com.br/venda-faturada-pj e saiba mais.\\n\\nSolicitar boleto faturado: Entre em contato pelo telefone 3003-3400 (opção 2) ou abra uma solicitação no Portal do Cliente: https://portalcliente.obramax.com.br/csm?_gl=1*1w5bcdj*_gcl_au*MjA0MTYyMDYxMy4xNzUzOTg4MTU5 para receber a segunda via do boleto.\\n\\nConsultar área de entrega: Acesse o site para simular a entrega no carrinho de compras ou consulte a política de entrega pelo CEP. Se estiver fora da área de cobertura, compre online e agende a retirada na loja.\\n\\nAcompanhar entrega: Faça login, acesse \"Minha Conta\" > \"Painel do Cliente\" > \"Meus Pedidos\" para detalhes. Receba e-mails ou cadastre o WhatsApp para atualizações.\\n\\nPedido não entregue: Se o prazo passou, contate a CENTRAL DO CLIENTE pelo telefone 3003-3400 (opção 3) ou pelo Portal do Cliente: https://portalcliente.obramax.com.br/csm?_gl=1*1w5bcdj*_gcl_au*MjA0MTYyMDYxMy4xNzUzOTg4MTU5 para suporte.\\n\\nDescarregamento da entrega: Entregas são feitas em área térrea num raio de até 50m do veículo. Em prédios, na portaria ou local externo acessível. Não autorizamos que os nossos entregadores subam degraus, escadas ou elevadores, ficando a total responsabilidade do cliente guardar ou transportar o material para outro local. Para maiores detalhes consulte nossa política de entrega.\\n\\nAusência no recebimento: Para que a entrega seja realizada, o cliente ou pessoa maior de 18 anos deve estar presente. Em caso de ausência, o material retorna para loja e agenda-se nova entrega. Mantenha seu cadastro atualizado.\\n\\nContato para imprevistos: Para imprevistos na entrega, ligue para 3003-3400 (opção 2) ou abra uma solicitação pelo Portal do Cliente: https://portalcliente.obramax.com.br/csm?_gl=1*1w5bcdj*_gcl_au*MjA0MTYyMDYxMy4xNzUzOTg4MTU5\\n\\nHorário de Retirada de pedidos - São Paulo e região:\\n- Loja Mooca: Seg-Sex 8h-22h | Sáb 8h-21h\\n- Loja Praia Grande: Seg-Sáb 7h-20h | Dom 9h-17h.\\n- Loja Piracicaba: Seg-Sáb 7h-21h | Dom 9h-17h.\\n- Loja Suzano: Seg-Sáb 7h-21h | Dom 9h-17h.\\n\\nHorário de Retirada de pedidos - Rio de Janeiro:\\n- Loja Benfica: Seg-Sáb 7h-21h | Dom 9h-17h | Feriados 8h-18h.\\n- Loja Duque de Caxias: Seg-Sáb 7h-21h | Dom 9h-17h.\\n- Loja Guadalupe: Seg-Sáb 7h-21h | Dom 9h-17h.\\n- Loja Jacarepaguá: Seg-Sáb 7h-21h | Dom 9h-17h.\\n- Loja Mesquita: Seg-Sáb 7h-21h | Dom 9h-17h.\\nPara mais informações, acesse: Retira Fácil: https://www.obramax.com.br/retira-facil', 'uuid': '2bd6dd0d-3278-4a33-84e7-4027f73393f9'}\n",
      "First destination text base: {'text': 'Canais de atendimento\\n- Entre em contato com a Central do cliente: \\nTelefone: 3003-3400 na opção 3\\nSegunda a sexta: das 08h às 18h\\nSábados: das 08h às 13h\\nWhatsapp no link: https://wa.me/551130033400\\nou pelo portal do cliente: https://portalcliente.obramax.com.br\\n- Entre em contato com o Televendas pelo Telefone: 3003-3400 na opção 2\\nSegunda a sexta: das 08h às 18h Sábados: das 08h às 13h\\nou Faça seu orçamento no Orçamax acessando o link https://www.obramax.com.br/orcamax\\n\\nO cliente pode retirar o seu pedido nas nossas lojas físicas de acordo com a loja escolhida no checkout:\\nNOSSAS LOJAS FÍSICAS:\\n- ES - Cariacica:\\nAv. Mário Gurgel, S/N- Oriente, Cariacica - ES, 29147-345\\nSegunda a Sábado das 7h às 21h\\nDomingos das 9h às 17h\\nFeriados das 8h às 18h\\nGoogle Maps: https://maps.app.goo.gl/oeRqLmDGpyMRJ7Aw5\\n- RJ - Benfica:\\nAv. Brasil, 3666 - Benfica\\nSegunda a Sábado das 7h às 21h\\nDomingos das 9h às 17h\\nFeriados das 8h às 18h\\nGoogle Maps: https://maps.app.goo.gl/2wVv6AdGJJRqZk276\\n- RJ - Duque de Caxias:\\nRua Jose da Silva Pereira, S/N Lote 05 B - Pilar - Duque de Caxias\\nSegunda a Sábado das 7h às 21h\\nDomingos das 9h às 17h\\nFeriados das 8h às 18h\\nGoogle Maps: https://maps.app.goo.gl/1LpB8kdm1epvYHdT7\\n- RJ - Guadalupe:\\nAvenida Brasil, 22693 - Guadalupe\\nSegunda a Sábado das 7h às 21h\\nDomingos das 9h às 17h\\nFeriados das 8h às 18h\\nGoogle Maps: https://maps.app.goo.gl/KnV8cY4eD2U2jCT88\\n- RJ - Jacarepaguá:\\nEstrada dos Bandeirantes, 3091 - Jacarepaguá\\nSegunda a Sábado das 7h às 21h\\nDomingos das 9h às 17h\\nFeriados das 8h às 18h\\nGoogle Maps: https://maps.app.goo.gl/VqtWgt5o22SLweww9\\n- RJ - Mesquita:\\nRod. Presidente Dutra, s/n Área 1B - Mesquita\\nSegunda a Sábado das 7h às 21h\\nDomingos das 9h às 17h\\nFeriados das 8h às 18h\\nGoogle Maps: https://maps.app.goo.gl/kPhZzk7oWhcx83PQA\\n- SP - Mooca:\\nAvenida do Estado, 6.313 - Mooca\\nSegunda a Sexta das 07h às 22h\\nSábados das 7h às 22h\\nDomingos das 9h às 17h\\nFeriados das 7h às 22h\\nGoogle Maps: https://maps.app.goo.gl/j9jub4CjjF6tfKDk6\\n- SP - Piracicaba:\\nAv Irmã Maria Felicíssima, 201 - Santa Rita\\nSegunda a Sábado das 07h às 21h\\nDomingos das 9h às 17h\\nFeriados das 8h às 20h\\nGoogle Maps: https://maps.app.goo.gl/wdhJ9ean983MQaBU9\\n- SP - Praia Grande:\\nAv. Ministro Marcos Freire, 1.500 - Jd. Glória\\nSegunda a Sábado das 07h às 21h\\nDomingos das 9h às 17h\\nFeriados das 8h às 20h\\nGoogle Maps: https://maps.app.goo.gl/EQEmVDKQuQ4pXNaEA\\n- SP - Suzano:\\nR. Prudente de Moraes, 1575 - Suzano\\nSegunda a Sábado das 7h às 21h\\nDomingos das 9h às 17h\\nFeriados das 8h às 20h\\nGoogle Maps: https://maps.app.goo.gl/MJsjtq2cjwb3cEg4A\\n\\nQuer retirar na loja? É fácil:\\n1) Compre como quiser\\nNo site, Televendas (exclusivo para Pessoa Jurídica) ou WhatsApp. Escolha a opção Retira Fácil no momento da compra.\\n2) Aguarde a confirmação do pagamento\\nAssim que o pagamento for aprovado, você receberá uma mensagem por e-mail e WhatsApp.\\nImportante: Mantenha seus dados de contato sempre atualizados para não perder nenhuma notificação.\\n3) Acompanhe a separação do seu pedido\\nQuando tudo estiver pronto, você será novamente notificado para ir até a loja fazer a retirada.\\n4) Retire seu pedido!\\nVá até a loja Obramax escolhida e dirija-se à área exclusiva do Retira Fácil, localizada no estacionamento.\\nNo momento da retirada, apresente o QR Code ou Código validador que você recebeu por e-mail ou WhatsApp. É rápido e seguro!\\nSe outra pessoa for retirar por você, tudo certo! Basta que ela apresente o QR Code ou Código validador e um documento de identificação com foto. A retirada será concluída com total segurança.\\nAtenção: A retirada e o transporte do material são de responsabilidade do cliente. A Obramax não realiza o carregamento em veículos particulares.\\n*Números WhatsApp:\\nMooca: (11) 3003-3400\\nPiracicaba: (19) 3003-3400\\nPraia Grande: (13) 3003-3400\\nRio de Janeiro: (21) 3003-3400\\nSuzano: (11) 3003-3400\\nCompras realizadas até as 11h estarão disponíveis para retirada no dia seguinte à compra.\\n\\nPolítica de Troca e Devolução de Produto\\n2. Contato\\nCaso o Usuário necessite de qualquer informação, esclarecimento ou atendimento com relação a esta Política de Troca e Devolução de Produtos, a Obramax disponibiliza o atendimento para receber todas as comunicações que o Usuário desejar fazer. O nosso atendimento opera por meios dos canais de comunicação listados abaixo:\\n(a) presencialmente, na loja física Obramax em que foi efetuada a compra, durante os horários de funcionamento: Segunda a Sábado das 07h00 às 21h00 e Domingos das 09h00 às 17h00.\\n(b) pelo telefone 3003-3400, Segunda a Sexta das 08h00 às 18h00 e Sábados e feriados das 08h00 às 16h00;\\n(c) pelo nosso formulário de contato ou clicando aqui. Em todos os casos, o Usuário receberá, pelo mesmo canal de comunicação, uma confirmação imediata do recebimento da sua demanda, que será tratada e respondida em um prazo máximo de 5 (cinco) dias.\\n\\n3. Modalidades\\n3.1. Em atendimento à legislação de proteção e defesa do consumidor, a Obramax disponibiliza 2 (duas) modalidades de troca ou devolução de produtos: (i) por arrependimento do consumidor; e (ii) por defeito do produto (vício).\\n3.2. A troca/devolução por arrependimento do consumidor, é valido somente nas modalidades de compra por e-commerce e televendas.\\n\\n4. Devolução ou Troca por arrependimento do Cliente (no prazo legal)\\n4.1. Caso se arrependa de uma compra realizada no Site, o Cliente poderá informar à Obramax por meio de nosso telefone 3003 - 3400 e requerer a devolução do produto e o cancelamento da compra. O Cliente terá 7 (sete) dias corridos, contados da data de recebimento do Produto, para informar seu arrependimento. Se este prazo terminar em um sábado, domingo ou feriado, o Cliente poderá exercer o seu direito de arrependimento até o primeiro dia útil subsequente. O exercício do direito de arrependimento será processado da seguinte forma:\\n4.2. Contato com a Obramax – 3003 – 3400 / formulário de contato ou clicando aqui. Para exercer seu direito legal de arrependimento, o Cliente deverá contatar a Obramax a fim de solicitar o cancelamento da Compra. É importante que o Cliente informe neste contato o número da nota fiscal e o nome completo do Produto, além de confirmar seus dados pessoais.\\n4.3. Envio do produto à Obramax. O Cliente terá duas opções para a devolução do produto à Obramax:\\n(a) entregando-o na loja física em que foi realizada a compra, com a respectiva nota fiscal de aquisição (para compras em loja física, e-commerce e televendas); ou,\\n(b) a Obramax poderá, a seu exclusivo critério, retirar o Produto em local indicado pelo Cliente, mediante prévio agendamento (para compras no e-commerce e televendas).\\n4.4. Condições do produto. Ao receber o Produto, a Obramax verificará se o mesmo está em condições adequadas, ou seja, se: (i) está em sua embalagem original, com todos os manuais, certificados de garantia, partes e acessórios; e (ii) está sem indícios de testes, provas ou uso.\\n4.5. Negativa do arrependimento. Caso o Produto não esteja em condições adequadas conforme descrito no item 4.4, a Obramax notificará o Cliente para informar que o direito ao arrependimento não poderá ser exercido, devendo o Cliente retirar o Produto em questão ou arcar com os custos de frete para nova entrega do Produto\\n4.6. Devolução dos valores pagos. Caso o Produto esteja em condições adequadas, a Obramax notificará o Cliente informando que aceitou o Produto devolvido e, em caso de troca a Obramax enviará um novo produto escolhido pelo Cliente e/ou no caso de cancelamento do pedido, a Obramax providenciará a devolução integral dos valores pagos pelo Cliente para a aquisição do Produto, incluindo devolução do preço e dos custos com o frete. Será permitido que o Cliente opte por (i) emissão de um Vale Compras no valor total do Produto, para utilização em compras futuras na loja física da Obramax em que foi realizada a compra inicial, com o estorno do valor total do frete no cartão de crédito ou (ii) estorno no valor total do pagamento feito pelo Cliente (incluindo preço do produto e frete).\\n4.7. Se o arrependimento ocorrer com relação a apenas um dos itens adquiridos ou alguns produtos constantes de um pedido, a devolução dos custos de frete será proporcional, sempre através de estorno no cartão de crédito. O valor do frete proporcional será calculado com base no valor do frete pago e peso do produto devolvido.\\n4.8. A devolução de pagamentos feitos por cartão de crédito será realizada por meio de estorno do lançamento, a ser solicitado pela Obramax à administradora do cartão de crédito utilizado em, no máximo, 72 (setenta e duas) horas após a aceitação e validação das condições do produto devolvido.\\n4.8.1. O prazo de efetivação do estorno é de exclusiva responsabilidade da administradora do cartão e será realizada de acordo com as regras e condições dessa empresa. Em compras pagas com a opção Boleto Bancário, a restituição será efetuada por meio de depósito bancário, em até 10 (dez) dias úteis, a contar do recebimento do produto na loja da Obramax e somente na conta corrente do(a) comprador(a), que deve ser individual.\\n\\n5. Devolução ou Troca por defeito no produto (em até sete dias)\\n5.1. Se o produto adquirido no Site por qualquer Cliente apresentar algum defeito ou avaria, o Cliente poderá solicitar a sua devolução ou troca por meio de telefone ou e-mail 3003 – 3400 / formulário de contato ou clicando aqui . O Cliente terá 7 (sete) dias corridos, contados da data de recebimento do produto, para informar a existência do defeito e requerer a troca ou a devolução. Se este prazo terminar em um sábado, domingo ou feriado, o Cliente poderá reportar a existência do defeito até o primeiro dia útil subsequente. A análise do pedido de troca ou devolução será processada da seguinte forma.\\n5.1.1. Contato com a Obramax 3003 – 3400 / formulário de contato ou clicando aqui. O Cliente deverá nos contatar a fim de informar a existência do defeito. É importante que o Cliente informe neste contato o número da nota fiscal, o nome completo do produto e o defeito apresentado, além de confirmar seus dados pessoais.\\n5.1.2. Envio do produto à Obramax. O Cliente terá duas opções para a devolução do produto com defeito à Obramax:\\n(a) entregando-o na loja física da Obramax em que foi realizada a compra com a respectiva nota fiscal de aquisição; ou,\\n(b) a Obramax poderá, a seu exclusivo critério, retirar o Produto em local indicado pelo Cliente, mediante prévio agendamento.\\n5.1.3. Condições do produto. Ao receber o produto, a Obramax verificará as suas condições, sendo que: (i) o Produto deverá estar em sua embalagem original, com todos os manuais, certificados de garantia, partes e acessórios; (ii) o defeito apresentado no produto deverá corresponder à descrição feita pelo Cliente; e (iii) o produto não deve ter sinais de mau uso pelo Cliente.\\n5.2. Negativa da troca ou devolução. Se o produto não preencher as condições para troca ou devolução, a Obramax notificará o Cliente para retirar o produto em questão em uma de suas lojas físicas ou para arcar com os custos de frete para nova entrega do produto.\\n5.3. Aceitação da troca ou devolução. Caso o produto esteja em condições adequadas, a Obramax notificará o Cliente a aceitação e validação das condições do produto devolvido e permitirá que o Cliente opte pelo (i) envio de produto idêntico, de mesma marca, linha, modelo e versão, sem qualquer custo adicional ou (ii) emissão de um Vale Compras no valor total do produto, para utilização em compras futuras na loja física da Obramax em que foi realizada a compra com o estorno do valor total do frete do cartão de crédito.\\n5.4. Havendo indisponibilidade do produto a ser trocado, o Cliente poderá optar: (i) pelo crédito no valor total do produto para utilização em compras futuras em qualquer loja física da Obramax ou pelo televendas com o estorno do valor total do frete do cartão de crédito, (ii) pela troca imediata por qualquer produto disponível na Obramax, com compensação em caso de diferença no preço; (iii) pela devolução do valor do produto, nos termos do item 4.8 acima.\\n5.5. Se a devolução ocorrer com relação a apenas um dos itens adquiridos ou alguns produtos constantes de um pedido, a devolução dos custos de frete será proporcional, sempre através de estorno no cartão de crédito ou crédito em conta, caso o pagamento tenha sido realizado através de Boleto Bancário. O valor do frete proporcional será calculado com base no valor do frete pago e peso do produto devolvido.\\n\\n6. Devolução ou Troca por defeito no produto (após mais de sete dias)\\n6.1. A devolução do produto com o cancelamento da compra. Após o prazo de 7 (sete) dias para devolução da compra, em decorrência de produto defeituoso, o Cliente deverá solicitar a sua devolução por meio de telefone ou e-mail 3003 – 3400 / formulário de contato ou clicando aqui, que será processado da seguinte forma:\\n6.1.1. Contato com a Obramax para solicitar o cancelamento da compra. O Cliente deverá contatar por meio de telefone ou e-mail 3003 – 3400 / formulário de contato ou clicando aqui, a fim de solicitar o cancelamento da Compra. É importante que o Cliente informe neste contato o número da nota fiscal e o nome completo do produto, além de confirmar seus dados pessoais.\\n6.1.2. Envio do produto à Obramax. O Cliente terá duas opções para a devolução do produto à Obramax: (a) entregando-o na loja física da Obramax em que foi realizada a compra com a respectiva nota fiscal de aquisição; ou (b) a Obramax poderá, a seu exclusivo critério, retirar o produto em local indicado pelo Cliente, mediante prévio agendamento (somente para e-commerce e televendas).\\n6.1.3. A devolução dos valores pagos ocorrerá nos termos do item 4.8 acima.\\n6.2. A troca do produto após o prazo de 7 (sete) dias e até o limite da garantia legal (30 (trinta) dias para bens não duráveis e 90 (noventa) dias para bens duráveis), mediante a apresentação do laudo da assistência técnica, comprovando o vício no produto respectivo, o Cliente terá duas opções para a devolução do produto à Obramax entregando-o em qualquer loja física da Obramax com a respectiva nota fiscal de aquisição\\n6.2.1. Caso o vício não seja sanado em 30 (trinta) dias, o Cliente poderá optar por (i) emissão de um Vale Compras no valor total do produto, para utilização em compras futuras para utilização em compras futuras na loja física da Obramax em que foi realizada a compra, com o estorno do valor total do frete do cartão de crédito se esse foi o único produto adquirido ou estorno proporcional se haviam outros produtos na compra, (ii) estorno no valor total do pagamento feito pelo Cliente (incluindo preço do produto e frete) ou estorno no valor do produto devolvido e estorno do valor proporcional do frete. O valor do frete proporcional será calculado com base no valor do frete pago e peso do produto devolvido ou (iii) depósito em conta, caso o pagamento tenha sido realizado via Boleto Bancário (incluindo preço do produto e frete).\\n6.2.2. Ao término da garantia legal, o Cliente deverá se valer da garantia fornecida pelo fabricante, nos termos do certificado de garantia que acompanha o Produto e com suporte na nota fiscal original. A Obramax sempre auxiliará o Cliente na localização dos serviços de assistência técnica dos fabricantes.\\n\\n7. Política de Devolução - Boleto Faturado (Pessoa Jurídica)\\n7.1. O Cliente deve comparecer na Loja de origem do pedido de venda, com os produtos e espelho da NF (Nota Fiscal) para devolução da mercadoria.\\n7.2. Caso a devolução seja total, efetuamos o abatimento dos valores (cancelamento de pedido de venda.).\\n\\n8. Condições Gerais para Troca e Devolução de Produto – Loja Física\\n8.1. A Obramax possui o serviço de troca, isto significa que desde que as condições abaixo sejam respeitadas, nós faremos prontamente a troca de seu(s) produto(s) adquirido(s) conosco:\\n8.2. É obrigatório que o Cliente apresente seu CPF junto do cupom fiscal e/ou nota fiscal. Caso não tenha mais o cupom, só será possível localizar sua compra mediante apresentação de dados sensíveis, como por exemplo: dados do cartão de crédito ou débito, data e valor da compra. Importante: pagamentos em dinheiro ou PIX NÃO são possíveis de localizar;\\n8.3. Os produtos sem vício/defeito, o prazo máximo de troca é de até 30 dias após a emissão do cupom fiscal/nota fiscal;\\n8.4. A embalagem do produto deverá estar em perfeito estado e o produto em condições de venda;\\n8.5. O produto esteja sem utilização ou instalação;\\n8.6. Os produtos adquiridos em saldo, sob encomenda, por metro e tintas preparadas no centro de cores ficam sem possibilidade de devolução.\\n8.7. Os produtos que possuem partes de vidro são conferidos no caixa. Sendo assim a troca só será realizada caso o produto esteja em perfeitas condições;\\n8.8. Produtos cerâmicos poderão ser trocados somente se estiverem com vício ou defeito;\\n8.9. Eletro/Eletrônicos, Aquecedores, Móveis e Máquinas em geral, quando apresentarem sinais de instalação e/ou utilização poderão ser trocadas somente com a apresentação de um laudo técnico e acompanhado de todos os componentes e manual;\\n8.10. Produtos com defeito deverão ser trocados na unidade onde foram adquiridos.\\n\\nPolítica de Entrega e Retira\\nPadrão de Entrega:\\n4.1. Padrão de Entrega\\nA OBRAMAX tem pleno conhecimento que qualquer atraso na entrega dos produtos na obra dos nossos clientes, causa muitos transtornos no dia a dia e enormes aborrecimentos. Sensível a isso e pensando em uma solução para esse problema, a OBRAMAX decidiu estruturar uma equipe especializada para disponibilizar a entrega na quantidade e prazo solicitado, assegurando o melhor serviço prestado neste segmento. Para tanto, ressaltamos as condições básicas necessárias:\\n1- Ato da Compra\\nO cliente deve certificar-se que seu pedido está de acordo com suas NECESSIDADES X ESPECIFICAÇÕES (dados cadastrais completos, quantidade suficiente, descrição clara, endereço de entrega correto e pagamento finalizado). Sempre que possível, disponibilizar mais de um telefone para contato, assim garantimos a assertividade e pontualidade no dia da entrega;\\n2- Prazo de Entrega\\nO prazo de entrega é definido a partir da opção de entrega selecionada, da disponibilidade do estoque e do endereço de destino final. A Obramax informará ao cliente a data de entrega dos produtos após a confirmação do pagamento, que por motivos de segurança pode demorar até 48 horas.\\n\\nCoberturas e prazos de entrega:\\n1.1 Áreas de coberturas\\nA OBRAMAX realiza suas entregas por meio de frota própria ou terceiros contratados. Atendendo a todos os tipos de pedidos em um raio de até 20km de distância da Loja física.\\nImportante: antes de finalizar sua compra, faça uma simulação de entrega para seu CEP se sua região é atendida.\\n1.2 Prazos de entrega\\nDurante o processo de compra, a OBRAMAX informará ao cliente a previsão do prazo de entrega do pedido. O prazo será contado a partir da data de aprovação do pagamento do pedido.\\nEntregas localizadas nas regiões com restrição de circulação de caminhões (DECRETO Nº 49.487, DE 12 DE MAIO DE 2008) e restrição de placas (DECRETO Nº 37.085 – DE 3 DE OUTUBRO DE 1997), a OBRAMAX indicará melhor alternativa para entrega, visando o cumprimento das legislações de trânsito, bem como a necessidade do cliente.\\n\\nValor do frete:\\nO valor do frete da entrega dos pedidos é calculado automaticamente no site antes mesmo de finalizar a compra. O cálculo considera: peso total do pedido (kg), volume, quantidade de produtos e distâncias.\\nA OBRAMAX poderá também disponibilizar outras formas especiais de frete para algumas localidades, de forma definitiva ou temporária.\\n\\nCondições de entrega:\\nPara que a entrega seja realizada, é necessário que o Cliente esteja presente no momento da entrega ou autorize uma pessoa maior de 18 anos (amigos, parentes, porteiros e/ou outros) apto a receber e conferir todos os itens solicitados. O responsável deverá assinar, colocar nome de forma legível e nº documento de identidade, no canhoto da DANFE (Nota Fiscal). No caso de empresa, será necessário carimbo contendo CNPJ e Razão Social.\\nÉ necessário que o cliente certifique que as dimensões do produto são compatíveis com as dimensões dos acessos: portas, passagens, portal da portaria (passagem do caminhão) e corredores do local de entrega (desobstruídos) por ele escolhido.\\nTodos os produtos serão entregues no endereço declarado para entrega (no térreo, ponto de descarga até 50 metros). Caso haja a necessidade de remoção para outro local, fica a cargo do Cliente.\\nAs entregas em edifícios e ou condomínios serão realizadas na portaria ou local indicado para recebimento, sendo de fácil acesso para a equipe de entrega, onde o cliente será o responsável pela guarda e transporte dos produtos (andar e unidade).\\nA OBRAMAX realiza a entrega dos pedidos embalados em: caixas, sacos, bags, chapas, paletes e amarrados.\\nPara embalagens retornáveis a reversa será realizada no momento da entrega.\\nOs entregadores da OBRAMAX NÃO estão autorizados a:\\na) Transportar materiais por escadarias, rampas, elevadores, passagens de difícil acesso, estreitos e distantes do ponto de parada do veículo (superior a 50 metros);\\nb) Instalar, montar ou desmontar os produtos das entregas;\\nc) Cobrar e/ou receber valor adicional no ato da entrega;\\nd) Entregar pedidos com hora marcada.\\nOBS.: (i) Necessário que o cliente esteja presente no momento da entrega ou autorize uma pessoa maior de 18 anos para poder receber a mercadoria;\\n(ii) Aos sábados, sujeito às regras e horários de recebimento do condomínio.\\nNota:\\nTamanhos dos nossos veículos:\\nMaior: Largura: 3,00m; comprimento: 11m; altura: 3,70m\\nMenor: Largura: 2,60m; comprimento: 4m; altura: 3,40m\\nAcesso para entregadores pedestres:\\nMínimo: Largura: 0,80m; altura: 2,20m\\n\\nEntregas passíveis de ressalvas:\\nO Cliente e/ou responsável pelo recebimento da mercadoria, poderá receber a entrega com eventuais ocorrências, desde que realize ressalva no verso do canhoto da Nota Fiscal, mencionando o fato, com letra legível e dados de identificação. O fato também poderá ser registrado na Central do Cliente, pelo telefone 3003-3400 opção 3 ou WhatsApp.\\n\\nEntregas parciais:\\nNão é permitida a entrega parcial da Nota Fiscal, ou seja, a OBRAMAX tem por obrigação legal entregar o total dos itens declarados na Nota Fiscal. No impedimento da realização da entrega nessas condições, o retorno da mercadoria, também, se dará pela sua totalidade.\\n\\nTentativas de entrega:\\nA OBRAMAX realiza a entrega dos produtos adquiridos pelos Clientes no endereço e prazos declarados na conclusão do pedido. O pedido retornará à loja, caso não seja possível realizar a entrega devido a:\\na) Ausência do Cliente e/ou pessoa autorizada no endereço de entrega;\\nb) Restrições de recebimento do edifício/condomínio não declaradas no momento da compra;\\nc) Limitações físicas que impeçam a entrega;\\nd) Endereço incorreto.\\nA OBRAMAX será responsável por contatar o cliente para negociar uma nova data para entrega. Na tentativa de re-entregar e na reincidência do fato, ou seja, impossibilitando a conclusão do serviço, a OBRAMAX efetuará o cancelamento da venda e o crédito no valor será lançado na conta do Cliente.\\n\\nRecusa na Entrega:\\nÉ recomendado ao Cliente e/ou responsável pelo recebimento de mercadorias entregues pela OBRAMAX, que confira o pedido produto a produto. Em eventual anomalia da entrega, poderá o cliente recusar conforme abaixo:\\na) Se a embalagem estiver violada (lacre rompido) ou danificada;\\nb) Se o produto estiver avariado;\\nc) Se os produtos entregues não correspondem com os produtos solicitados no pedido (quantidade e/ou especificação);\\nd) Se o conteúdo das embalagens estiver incompleto, sem partes ou acessórios dos produtos adquiridos;\\ne) Se o pedido estiver em desacordo com os prazos e preços.\\nO Cliente poderá entrar em contato com a Central do Cliente, pelo telefone 3003-3400 opção 3 ou WhatsApp para imediato registro e encaminhamento da solução. Caso haja o recebimento indevido do produto, o Cliente poderá requerer sua troca apenas nos casos previstos na Política de Trocas e Devoluções.\\n\\nDevolução por erro de informação no cadastro/pedido:\\nA OBRAMAX não se responsabiliza por:\\na) Informação errônea de endereços no cadastro básico do Cliente;\\nb) Desatualização / erro de declaração de endereço de entrega no momento da conclusão do pedido.\\nOs dados básicos de cadastro, são de inteira responsabilidade do Cliente, nos quesitos veracidade, fidedignos e completo.\\nO cliente deve, no momento da conclusão do pedido, conferir a correta informação de seus dados cadastrais, inclusive endereço de entrega completo.\\nCaso o cliente tenha algum imprevisto e não consiga receber o pedido no dia programado para a entrega, pedimos a gentileza de entrar em contato com a Central do Cliente, pelo telefone 3003-3400 *Opção 3 e reprogramar a entrega para data mais adequada.\\n\\nAlterações no pedido/atrasos:\\n11.1. Alterações no pedido\\nApós a finalização/aprovação em nossos sistemas, a OBRAMAX não aceita alterações no pedido, tais como: forma de pagamento, quantidade, data de entrega e modalidade de entrega.\\n11.2. Ocorrência de Atrasos\\nEm eventuais situações de atrasos, consideramos eventos de causa fortuitos e de força maior, tais como:\\na) Indicação de endereço errado, incompleto ou inexistente;\\nb) Fatores naturais (chuvas, enchentes e calamidade pública);\\nc) Fatores humanos (greves, manifestações e acidentes).\\nNestes casos, a OBRAMAX fará o possível para manter o Cliente informado, explicando o evento e negociando uma nova data de entrega.\\n\\nRetira Fácil:\\nO Retira Fácil é um serviço que permite a retirada de pedidos realizados pelo site, Televendas (exclusivo para Pessoa Jurídica) ou WhatsApp, diretamente em uma das lojas físicas Obramax.\\nO cliente pode escolher essa opção no momento da compra.\\nEste serviço possui um valor fixo de R$ 9,99, referente à separação e manuseio do pedido.\\nApós a aprovação do pagamento, o cliente receberá uma notificação por e-mail e WhatsApp assim que o pedido estiver pronto para retirada. Mantenha seus dados cadastrais atualizados para garantir o recebimento das notificações.\\n12.1) Como funciona a retirada: a retirada deve ser feita na loja escolhida, na área exclusiva do Retira Fácil, localizada no estacionamento.\\nNo momento da retirada, será necessário apresentar: o QR Code ou Código validador recebidos por e-mail e WhatsApp e um documento oficial com foto da pessoa que estiver retirando o pedido.\\nQuem pode retirar: titular da compra ou terceiro de confiança.\\nRetirada por terceiros: basta que a pessoa apresente: o QR Code ou Código validador e um documento de identificação com foto. A verificação será feita no momento da retirada, de forma rápida e segura.\\n12.2) Prazo para retirada: o pedido ficará disponível para retirada por até 72 horas após a notificação. Se a retirada não for realizada dentro desse prazo, o pedido será cancelado automaticamente e o valor convertido em crédito online para uso futuro.\\nPara mais informações, acesse: https://www.obramax.com.br/retira-facil\\n\\nSobre a Obramax:\\nPara aqueles que precisam construir ou reformar, Obramax é a primeira loja pensada para facilitar a vida deles, oferecendo uma experiência omnicanal totalmente desenhada para suas necessidades, com produtos técnicos à um preço extremamente atrativo.\\nFazemos isso porque acreditamos que assim melhoramos as construções e a vida de todos os brasileiros.\\nQuem somos: Obramax: Orgulho de ser da obra, como você.\\nSomos o maior atacarejo de material de construção focado em você, profissional da obra, e com as melhores condições para todo mundo que vai construir ou reformar.\\nAqui, você vai encontrar tudo o que precisa da fundação ao acabamento, na quantidade que precisa, com disponibilidade imediata e a garantia de preços competitivos o ano todo.\\nTemos orgulho de entender e atender você da melhor maneira possível. Temos orgulho de ser da obra.\\n- Visão: Revolucionamos a experiência de compra ao torná-la incrivelmente fácil, profissional confiável e amigável. Para atingir e sempre renovar essa ambição, ajudamos incansavelmente nossas equipes e nossos clientes a se superarem. Fazemos a diferença na vida dos brasileiros.\\n- Missão: Ser o parceiro confiável dos profissionais e consumidores finais pragmáticos garantindo uma economia de tempo, energia e dinheiro na realização de seus projetos de construção, reforma, instalação e manutenção residencial e comercial de pequeno e médio porte.\\n- Valores: Proximidade, Partilha, Transparência, Paixão, Gosto por empreender, Compromisso com o resultado\\nConheça o grupo Adeo:\\nFazemos parte do Grupo Adeo, 3º maior grupo varejista de materiais de construção do mundo, o 1º na Europa e no Brasil. Nasceu em 1923, com a marca Leroy Merlin (pelo casal Adolphe Leroy e Rose Merlin) e hoje é comandada pela Associação Familiar Mulliez (AFM). Atualmente, está presente em 15 países, com mais de 800 pontos de vendas divididos em 14 marcas independentes. A instituição faturou mais de 23 bilhões de euros em 2018, atendendo mais de 450 milhões de clientes por dia no mundo.\\n\\nPerguntas frequentes\\nPor que se cadastrar?\\nAo se cadastrar, garantimos mais segurança para suas compras, além de manter seus dados atualizados para a entrega dos produtos.\\n\\nComo fazer meu cadastro?\\n1. Clique em \"Entre ou Cadastre-se\" no canto superior direito do site.\\n2. Escolha entre pessoa física ou jurídica.\\n3. Digite seu CPF ou CNPJ e complete os dados solicitados.\\n\\nRecuperar/Alterar senha\\n1. Clique em \"Entre ou Cadastre-se\" no canto superior direito.\\n2. Escolha \"Esqueci minha senha\".\\n3. Siga o e-mail recebido para cadastrar a nova senha.\\n\\nAlterar cadastro\\nMantenha seus dados atualizados para facilitar o contato e entrega dos pedidos:\\n1. Faça login em \"Entre ou Cadastre-se\".\\n2. Selecione \"Sua Conta\" e depois \"Editar\" para atualizar as informações.\\n\\nAcompanhar pedido\\nFaça login e acesse \"Meus Pedidos\" em sua conta. Receba atualizações por e-mail ou WhatsApp.\\n\\nPor que pedem meu CPF?\\nSeu CPF e outros dados são essenciais para validar sua compra, garantir a entrega correta e emitir notas fiscais.\\n\\nComo solicitar um orçamento?\\nAcesse este link: https://www.obramax.com.br/orcamax e envie sua lista de compras para receber sua cotação em até 48 horas.\\n\\nServiços de instalação e montagem\\nNão oferecemos esses serviços, recomendamos buscar profissionais qualificados em sua região.\\n\\nReservar/Encomendar produtos\\nNão realizamos reservas. Compre pelo site ou Televendas e escolha \"Retira Fácil\" para retirar na loja após pagamento aprovado.\\n\\nCompra não foi aprovada\\nSe seu pedido foi cancelado, entre em contato com a CENTRAL DO CLIENTE pelo telefone 3003-3400 (opção 3) ou abra uma solicitação pelo Portal do Cliente: https://portalcliente.obramax.com.br/csm?_gl=1*1w5bcdj*_gcl_au*MjA0MTYyMDYxMy4xNzUzOTg4MTU5\\n\\nPrazo de aprovação do pagamento (pedidos do site)\\n- Cartão de Crédito: até 48 horas do pagamento\\n- Boleto Bancário: até 48 horas do pagamento\\n- PIX: Imediato\\n\\nFormas de pagamento - Loja Física:\\n- Cartões de Crédito das bandeiras: Visa, Mastercard, Elo, Hiper, Diners, American Express.\\n- PIX\\n- Venda Faturada para pessoa jurídica.\\n\\nFormas de pagamento - Site e Televendas:\\n- Cartões de Crédito das bandeiras: Visa, Mastercard, Elo, Hipercard, American Express e Diners Club.\\n- PIX\\n- Transferência PIX (exclusivo para Televendas).\\n- Boleto Bancário\\n- Venda Faturada* para pessoa jurídica (Televendas e lojas físicas)\\n*Mediante prévia aprovação de crédito.\\n\\nÉ possível utilizar duas formas de pagamento? Loja física: sim. Site e Televendas: não.\\n\\nAlterar forma de pagamento: Não é possível. É necessário cancelar e refazer o pedido com a nova forma de pagamento desejada.\\n\\nCondições de parcelamento: Parcelamento em até 12x com acréscimo de 1% por parcela.\\n\\nComprar por boleto faturado: É necessário ter CNPJ válido, se cadastrar e aguardar a aprovação do crédito. Clique aqui: https://www.obramax.com.br/venda-faturada-pj e saiba mais.\\n\\nSolicitar boleto faturado: Entre em contato pelo telefone 3003-3400 (opção 2) ou abra uma solicitação no Portal do Cliente: https://portalcliente.obramax.com.br/csm?_gl=1*1w5bcdj*_gcl_au*MjA0MTYyMDYxMy4xNzUzOTg4MTU5 para receber a segunda via do boleto.\\n\\nConsultar área de entrega: Acesse o site para simular a entrega no carrinho de compras ou consulte a política de entrega pelo CEP. Se estiver fora da área de cobertura, compre online e agende a retirada na loja.\\n\\nAcompanhar entrega: Faça login, acesse \"Minha Conta\" > \"Painel do Cliente\" > \"Meus Pedidos\" para detalhes. Receba e-mails ou cadastre o WhatsApp para atualizações.\\n\\nPedido não entregue: Se o prazo passou, contate a CENTRAL DO CLIENTE pelo telefone 3003-3400 (opção 3) ou pelo Portal do Cliente: https://portalcliente.obramax.com.br/csm?_gl=1*1w5bcdj*_gcl_au*MjA0MTYyMDYxMy4xNzUzOTg4MTU5 para suporte.\\n\\nDescarregamento da entrega: Entregas são feitas em área térrea num raio de até 50m do veículo. Em prédios, na portaria ou local externo acessível. Não autorizamos que os nossos entregadores subam degraus, escadas ou elevadores, ficando a total responsabilidade do cliente guardar ou transportar o material para outro local. Para maiores detalhes consulte nossa política de entrega.\\n\\nAusência no recebimento: Para que a entrega seja realizada, o cliente ou pessoa maior de 18 anos deve estar presente. Em caso de ausência, o material retorna para loja e agenda-se nova entrega. Mantenha seu cadastro atualizado.\\n\\nContato para imprevistos: Para imprevistos na entrega, ligue para 3003-3400 (opção 2) ou abra uma solicitação pelo Portal do Cliente: https://portalcliente.obramax.com.br/csm?_gl=1*1w5bcdj*_gcl_au*MjA0MTYyMDYxMy4xNzUzOTg4MTU5\\n\\nHorário de Retirada de pedidos - São Paulo e região:\\n- Loja Mooca: Seg-Sex 8h-22h | Sáb 8h-21h\\n- Loja Praia Grande: Seg-Sáb 7h-20h | Dom 9h-17h.\\n- Loja Piracicaba: Seg-Sáb 7h-21h | Dom 9h-17h.\\n- Loja Suzano: Seg-Sáb 7h-21h | Dom 9h-17h.\\n\\nHorário de Retirada de pedidos - Rio de Janeiro:\\n- Loja Benfica: Seg-Sáb 7h-21h | Dom 9h-17h | Feriados 8h-18h.\\n- Loja Duque de Caxias: Seg-Sáb 7h-21h | Dom 9h-17h.\\n- Loja Guadalupe: Seg-Sáb 7h-21h | Dom 9h-17h.\\n- Loja Jacarepaguá: Seg-Sáb 7h-21h | Dom 9h-17h.\\n- Loja Mesquita: Seg-Sáb 7h-21h | Dom 9h-17h.\\nPara mais informações, acesse: Retira Fácil: https://www.obramax.com.br/retira-facil', 'uuid': '0cfc0e27-8adf-4124-a1ca-fc4a49ace6c5'}\n"
     ]
    }
   ],
   "source": [
    "# Test getting content base UUID and text bases\n",
    "source_content_base_uuid = get_content_base_uuid(SOURCE_PROJECT_UUID)\n",
    "destination_content_base_uuid = get_content_base_uuid(DESTINATION_PROJECT_UUID)\n",
    "\n",
    "print(f\"Source content base UUID: {source_content_base_uuid}\")\n",
    "print(f\"Destination content base UUID: {destination_content_base_uuid}\")\n",
    "\n",
    "# Test source text bases\n",
    "source_text_response = get_text_bases(source_content_base_uuid)\n",
    "source_text_bases = source_text_response.get(\"results\", [])\n",
    "print(f\"Found {len(source_text_bases)} text bases in source\")\n",
    "\n",
    "# Test destination text bases\n",
    "destination_text_response = get_text_bases(destination_content_base_uuid)\n",
    "destination_text_bases = destination_text_response.get(\"results\", [])\n",
    "print(f\"Found {len(destination_text_bases)} text bases in destination\")\n",
    "\n",
    "print(f\"First source text base: {source_text_bases[0] if source_text_bases else 'None'}\")\n",
    "print(f\"First destination text base: {destination_text_bases[0] if destination_text_bases else 'None'}\")"
   ]
  },
  {
   "cell_type": "code",
   "execution_count": 6,
   "metadata": {},
   "outputs": [],
   "source": [
    "# Link/Site Base Functions\n",
    "def get_link_bases(content_base_uuid: str) -> List[Dict[str, Any]]:\n",
    "    \"\"\"Get all link bases from content base\"\"\"\n",
    "    url = f'https://nexus.weni.ai/api/{content_base_uuid}/content-bases-link/'\n",
    "    \n",
    "    response = requests.get(url, headers=get_headers())\n",
    "    \n",
    "    if response.status_code == 200:\n",
    "        return response.json()\n",
    "    else:\n",
    "        raise Exception(f\"Failed to get link bases: {response.status_code} - {response.text}\")\n",
    "\n",
    "def create_link_base(content_base_uuid: str, link_data: Dict[str, str]) -> Dict[str, Any]:\n",
    "    \"\"\"Create a link base in destination content base\"\"\"\n",
    "    url = f'https://nexus.weni.ai/api/{content_base_uuid}/content-bases-link/'\n",
    "    \n",
    "    response = requests.post(url, headers=get_headers_with_content_type(), json=link_data)\n",
    "    \n",
    "    if response.status_code in [200, 201]:\n",
    "        return response.json()\n",
    "    else:\n",
    "        raise Exception(f\"Failed to create link base: {response.status_code} - {response.text}\")"
   ]
  },
  {
   "cell_type": "code",
   "execution_count": 7,
   "metadata": {},
   "outputs": [],
   "source": [
    "# File Base Functions\n",
    "def get_file_bases(content_base_uuid: str) -> List[Dict[str, Any]]:\n",
    "    \"\"\"Get all file bases from content base\"\"\"\n",
    "    url = f'https://nexus.weni.ai/api/{content_base_uuid}/content-bases-file/'\n",
    "    \n",
    "    response = requests.get(url, headers=get_headers())\n",
    "    \n",
    "    if response.status_code == 200:\n",
    "        return response.json()\n",
    "    else:\n",
    "        raise Exception(f\"Failed to get file bases: {response.status_code} - {response.text}\")\n",
    "\n",
    "def download_file(file_url: str) -> bytes:\n",
    "    \"\"\"Download a file from URL\"\"\"\n",
    "    response = requests.get(file_url)\n",
    "    if response.status_code == 200:\n",
    "        return response.content\n",
    "    else:\n",
    "        raise Exception(f\"Failed to download file: {response.status_code}\")\n",
    "\n",
    "def create_file_base(content_base_uuid: str, file_data: Dict[str, Any], file_content: bytes) -> Dict[str, Any]:\n",
    "    \"\"\"Create a file base in destination content base\"\"\"\n",
    "    url = f'https://nexus.weni.ai/api/{content_base_uuid}/content-bases-file/'\n",
    "    \n",
    "    # Prepare multipart form data\n",
    "    files = {\n",
    "        'file': (file_data.get('filename', 'file.pdf'), file_content, file_data.get('content_type', 'application/pdf'))\n",
    "    }\n",
    "    \n",
    "    data = {\n",
    "        'extension_file': file_data.get('extension_file', 'pdf'),\n",
    "        'load_type': file_data.get('load_type', 'pdfminer')\n",
    "    }\n",
    "    \n",
    "    # Remove content-type header for multipart\n",
    "    headers = get_headers()\n",
    "    \n",
    "    response = requests.post(url, headers=headers, files=files, data=data)\n",
    "    \n",
    "    if response.status_code in [200, 201]:\n",
    "        return response.json()\n",
    "    else:\n",
    "        raise Exception(f\"Failed to create file base: {response.status_code} - {response.text}\")"
   ]
  },
  {
   "cell_type": "markdown",
   "metadata": {},
   "source": [
    "## 5. Copy Agent Customization"
   ]
  },
  {
   "cell_type": "code",
   "execution_count": 8,
   "metadata": {},
   "outputs": [],
   "source": [
    "def copy_agent_customization():\n",
    "    \"\"\"Copy agent customization from source to destination project\"\"\"\n",
    "    print(\"Copying agent customization...\")\n",
    "    \n",
    "    try:\n",
    "        # Get source customization\n",
    "        source_customization = get_agent_customization(SOURCE_PROJECT_UUID)\n",
    "        print(f\"Retrieved agent customization from source project\")\n",
    "        print(f\"Agent name: {source_customization.get('agent', {}).get('name', 'N/A')}\")\n",
    "        print(f\"Number of instructions: {len(source_customization.get('instructions', []))}\")\n",
    "\n",
    "        print(source_customization)\n",
    "        \n",
    "        # Prepare destination data - strip IDs from instructions\n",
    "        destination_data = {\n",
    "            \"agent\": source_customization.get(\"agent\", {}),\n",
    "            \"instructions\": [\n",
    "                {\"instruction\": instr[\"instruction\"]} \n",
    "                for instr in source_customization.get(\"instructions\", [])\n",
    "            ]\n",
    "        }\n",
    "        \n",
    "        print(f\"\\nPrepared destination data (without IDs):\")\n",
    "        print(destination_data)\n",
    "        \n",
    "        # Update destination with processed data\n",
    "        result = update_agent_customization(DESTINATION_PROJECT_UUID, destination_data)\n",
    "        print(\"✅ Successfully copied agent customization to destination project\")\n",
    "        \n",
    "        return result\n",
    "        \n",
    "    except Exception as e:\n",
    "        print(f\"❌ Error copying agent customization: {str(e)}\")\n",
    "        return None"
   ]
  },
  {
   "cell_type": "code",
   "execution_count": 9,
   "metadata": {},
   "outputs": [
    {
     "name": "stdout",
     "output_type": "stream",
     "text": [
      "Copying agent customization...\n",
      "Retrieved agent customization from source project\n",
      "Agent name: Vendedor Virtual\n",
      "Number of instructions: 39\n",
      "{'agent': {'name': 'Vendedor Virtual', 'role': 'Especialista em Obras', 'personality': 'Amigável', 'goal': 'Você tira dúvidas e oferta produtos de construção civil (banheiros, climatização e ventilação, cozinha e área de serviço, EPIs, ferragens, ferramentas, iluminação, impermeabilizantes, marcenaria e madeiras, materiais de construção, materiais elétricos, materiais hidráulicos, organização e limpeza, pisos e revestimentos, portas e janelas, sistemas de segurança e comunicação, e tintas e acessórios) no varejo ou atacado. Suas funcionalidades são: buscar produtos, gerar link de pagamento do checkout, fornecer informações sobre o pedido do cliente e nota fiscal. Seu público alvo são profissionais da construção como pedreiros, encanadores, eletricistas, engenheiros, mestres de obra e arquitetos'}, 'instructions': [{'id': 10004, 'instruction': 'Se não encontrar o produto específico que o cliente quer, tente buscar de forma mais genérica respeitando as especificações que o cliente precisa'}, {'id': 10216, 'instruction': 'Sempre envie para o agente de busca de produtos o CEP e o deliverytype se já tiver (deliverytype só é obrigatório quando o agente colaborador pedir)'}, {'id': 10213, 'instruction': 'SEMPRE ENVIE O LINK DA IMAGEM DO PRODUTO (IMAGEURL)'}, {'id': 10354, 'instruction': \"Sempre que for calcular valor final de pisos e revestimentos, use a fórmula 'quantidade de metro quadrado por caixa X preço X quantidade de caixas necessarias'. Arredonde a quantidade de caixa sempre para cima caso seja necessário para cobrir a área que o cliente precisa\"}, {'id': 9755, 'instruction': 'Sempre que faltar até 2 peças para atingir a quantidade mínima de atacado, informe o cliente'}, {'id': 9095, 'instruction': 'Sempre que for enviar links, envie na mensagem de forma escrita'}, {'id': 9747, 'instruction': 'Sempre chame o agente de checkout e frete depois de ter chamado o agente de busca de produtos concierge primeiramente'}, {'id': 9034, 'instruction': 'Sempre que o agente de busca indicar produtos errados, direcione o cliente para o Orçamax para fazer seu orçamento'}, {'id': 9631, 'instruction': 'Sempre que o cliente perguntar sobre promoções e cupons, responda com confiança que a Obramax possui preços baixos o ano inteiro, mas que se deseja oportunidades ainda mais vantajosas dentro da Obramax, basta acessar a coleção Max por Menos no link https://www.obramax.com.br/139?map=productClusterIds. Mantenha um tom positivo e encorajador, mostrando que o cliente sempre pode economizar com a Obramax.'}, {'id': 8561, 'instruction': 'sempre que o cliente quiser fechar um pedido, gere um carrinho novo, não reutilize carrinhos'}, {'id': 8564, 'instruction': 'Sempre obrigatoriamente envie ao cliente o link original da imagem do produto (imageUrl), na listagem de produtos, mesmo que o cliente não peça. É obrigatório priorizar o envio da imagem e NUNCA deixar de enviá-la. Só envie o link da página do produto caso o cliente insista.'}, {'id': 8559, 'instruction': 'Quando estiver na etapa final de gerar o link de pagamento, chame o agente Payment Agent passando o parametro product_items nesse formato: [{sku_id=sku_id, quantity=1, seller_id=1},{sku_id=sku_id, quantity=1, seller_id=1}] Lembre de substituir o sku_id pelo sku_id e quantity pela quantidade desejada. Sempre use o seller_id=1. Nunca envie nada concatenado ao sku_id. NUNCA envie nesse formato: [{sku_id=1976404#246, quantity=1, seller_id=1}], somente nesse [{sku_id=1976404, quantity=1, seller_id=1}]'}, {'id': 9033, 'instruction': 'Caso o cliente queira falar com um vendedor, direcione o canal do televendas'}, {'id': 10711, 'instruction': 'Nunca envie saudações ou qualquer mensagem em ingles ao cliente'}, {'id': 10217, 'instruction': \"Sempre que receber um link com extensão .jpg você deve enviá-lo ao usuário obrigatóriamente. O link segue esse formato de exemplo 'https://lojaobramax.vtexassets.com/arquivos/ids/NUMERO/NUMERO.jpg?v=NUMERO'\"}, {'id': 10252, 'instruction': 'Sempre deixe claro que o valor de retirada é referente à separação dos itens e não do frete'}, {'id': 9023, 'instruction': 'Sempre que for dar o feedback progressivo, envie no mesmo idioma da conversa. Nunca envie uma mensagem em um idioma diferente do idioma do usuário. Não envie mais de dois feedbacks progressivos consecutivamente'}, {'id': 9686, 'instruction': 'Sempre que o cliente tiver dúvidas sobre a quantidade de cerâmica, pergunte onde será instalada (piso ou parede), a largura e a profundidade do local. Pergunte se o cliente deseja instalar no rodapé; se sim, adicione sempre 10% sobre o total (não calcule o rodapé separadamente, considere sempre 10% a mais). Em seguida, adicione mais 10% sobre o total final para margem de segurança (quebras).'}, {'id': 9687, 'instruction': 'Sempre tente usar as palavras importantes para o negócio e as coloque em negrito. Para usar negrito use dois asteriscos antes e dois asteriscos após a palavra. As palavras importantes para o negócio são: Confira, Saiba mais, Ver detalhes, Adicionar ao carrinho, Aprovado, Compre, Concluído, Confirmado, Confirmar, Criado, Economize, Finalizar, Garanta, Melhor preço, Recebido'}, {'id': 9174, 'instruction': 'SEMPRE tente vender para o cliente na conversa, só direcione para o televendas ou loja física se o cliente estiver tendo problemas'}, {'id': 9954, 'instruction': 'Consulte a base de conhecimento somente se quiser buscar informações sobre retirada, troca e devolução, política de entrega e sobre a obramax. Nunca consulte para saber informações sobre valores ou produtos'}, {'id': 10575, 'instruction': 'Se o cliente quiser o boleto do orçamento dele, direcione para o canal de televendas'}, {'id': 9027, 'instruction': 'Fale de forma direta, acessível e com atitude positiva, sem parecer forçado. Use frases curtas, objetivas, com poucos parágrafos e evite jargões complicados. Priorize a clareza e a leitura fácil. Se for ajudar o entendimento, use emojis com moderação, no fim do parágrafo, APENAS quando deixarem a conversa mais leve ou fluida. Ofereça sugestões, mas NUNCA pressione o cliente.'}, {'id': 9032, 'instruction': 'Sempre que o cliente estiver precisando de ajuda ou com algum problema, direcione para o canal do Cliente de acordo com a base de conhecimento'}, {'id': 9739, 'instruction': \"Sempre que receber mensagens nessa estrutura 'nome completo do produto + SKU: numero do sku + dúvida' chame o agente de Informações do produto, caso contrário, priorize o uso do agente concierge de busca de produtos\"}, {'id': 9740, 'instruction': 'Sempre use o agente de busca de produtos, é obrigatório chamar o agente de busca de produtos pelo menos uma vez para regionalizar (com cep e modalidade de entrega) para verificar estoque do produto antes de chamar o agente de checkout e frete'}, {'id': 9746, 'instruction': 'Sempre use o agente de busca de produtos para saber o valor do produto. O agente de Checkout e frete serve somente para finalizar o pedido e obter informações de frete, informações de pagamento do produto é com o agente de busca de produtos'}, {'id': 10083, 'instruction': 'Sempre que chamar o agente de checkout já envie o CEP do cliente se tiver'}, {'id': 9748, 'instruction': 'Seja muito direto informando sobre produtos e vendendo, evite textos grandes e tente sempre vender. Se o cliente não tiver dúvidas, seja direto e venda, faça perguntas somente se o cliente demonstrar estar com dúvidas sobre a compra'}, {'id': 9753, 'instruction': \"No início da conversa sempre se apresente com essa mensagem 'Olá! Sou seu Vendedor Virtual. Me envie um áudio, texto ou imagem do que precisa e eu te ajudo! O que deseja comprar? 😊'\"}, {'id': 9754, 'instruction': 'Sempre que for listar produtos, apresente até 3 opções e de forma direta. O usuário não precisa saber como você organizou os itens. Se o cliente quiser ver mais itens avise que ele buscar de forma específica'}, {'id': 9756, 'instruction': 'Sempre seja cordial em caso de elogio ao final do atendimento e diga \"Até logo\". Responda com leveza e acolhimento, mesmo quando a mensagem for confusa ou fora do tema. Sempre redirecione com naturalidade a conversa para algo que possa ajudar. Se for algo inadequado ou ofensivo, mantenha o tom respeitoso, encurte a conversa e oriente para atendimento nos canais Obramax.'}, {'id': 9761, 'instruction': 'Sempre que o cliente mudar a opção logística de entrega, chame o agente concierge de busca de produtos para verificação do estoque do produto'}, {'id': 9648, 'instruction': 'Sempre que for falar o valor de um produto, mencione que ele custa R$ X Preço à vista ou até X vezes de X valor no cartão de crédito (informe que haverá a taxa de juros da operadora de cartão de crédito). Sempre informe o preço de atacado e quantidade mínima se houver, incluindo a imagem de cada produto'}, {'id': 9561, 'instruction': 'Envie a imagem do produto sem formatação Markdown (ex.: ![nome](URL) ou [Imagem:]). Sempre envie imageUrl original, sem qualquer formatação, especialmente quando o link terminar com extensão de imagem'}, {'id': 8825, 'instruction': 'Se apresente chamando o cliente pelo nome (se souber) e cumprimente dando as boas vindas. Informe o cliente com naturalidade que ele pode mandar um áudio, texto ou imagem do produto que ele precisa. Convide o cliente a começar, se mostrando disponível a ajudar.'}, {'id': 10726, 'instruction': 'Em caso de produtos danificados na modalidade de retirada, confirme se o cliente realizou a conferência no ato da retira. Se ele tiver conferido no ato e estava tudo certo com os produtos, não há troca de acordo com a política de troca. Porém indique que o cliente entre em contato com a nossa central do cliente.'}, {'id': 9758, 'instruction': 'Sempre apresente as opções de frete destacando a mais barata em negrito. Sempre que o cliente quiser retirar, oriente sobre o tamanho do veículo de acordo com a cubagem (carro de passeio, utilitário ou caminhão) se o pedido for em grande quantidade.'}, {'id': 9757, 'instruction': 'Sempre tente resolver o tema da conversa antes de direcionar para o televendas ou loja física. Sempre que o cliente insistir em falar com um vendedor, direcione o canal do televendas'}], 'team': {'human_support': False, 'human_support_prompt': None}}\n",
      "\n",
      "Prepared destination data (without IDs):\n",
      "{'agent': {'name': 'Vendedor Virtual', 'role': 'Especialista em Obras', 'personality': 'Amigável', 'goal': 'Você tira dúvidas e oferta produtos de construção civil (banheiros, climatização e ventilação, cozinha e área de serviço, EPIs, ferragens, ferramentas, iluminação, impermeabilizantes, marcenaria e madeiras, materiais de construção, materiais elétricos, materiais hidráulicos, organização e limpeza, pisos e revestimentos, portas e janelas, sistemas de segurança e comunicação, e tintas e acessórios) no varejo ou atacado. Suas funcionalidades são: buscar produtos, gerar link de pagamento do checkout, fornecer informações sobre o pedido do cliente e nota fiscal. Seu público alvo são profissionais da construção como pedreiros, encanadores, eletricistas, engenheiros, mestres de obra e arquitetos'}, 'instructions': [{'instruction': 'Se não encontrar o produto específico que o cliente quer, tente buscar de forma mais genérica respeitando as especificações que o cliente precisa'}, {'instruction': 'Sempre envie para o agente de busca de produtos o CEP e o deliverytype se já tiver (deliverytype só é obrigatório quando o agente colaborador pedir)'}, {'instruction': 'SEMPRE ENVIE O LINK DA IMAGEM DO PRODUTO (IMAGEURL)'}, {'instruction': \"Sempre que for calcular valor final de pisos e revestimentos, use a fórmula 'quantidade de metro quadrado por caixa X preço X quantidade de caixas necessarias'. Arredonde a quantidade de caixa sempre para cima caso seja necessário para cobrir a área que o cliente precisa\"}, {'instruction': 'Sempre que faltar até 2 peças para atingir a quantidade mínima de atacado, informe o cliente'}, {'instruction': 'Sempre que for enviar links, envie na mensagem de forma escrita'}, {'instruction': 'Sempre chame o agente de checkout e frete depois de ter chamado o agente de busca de produtos concierge primeiramente'}, {'instruction': 'Sempre que o agente de busca indicar produtos errados, direcione o cliente para o Orçamax para fazer seu orçamento'}, {'instruction': 'Sempre que o cliente perguntar sobre promoções e cupons, responda com confiança que a Obramax possui preços baixos o ano inteiro, mas que se deseja oportunidades ainda mais vantajosas dentro da Obramax, basta acessar a coleção Max por Menos no link https://www.obramax.com.br/139?map=productClusterIds. Mantenha um tom positivo e encorajador, mostrando que o cliente sempre pode economizar com a Obramax.'}, {'instruction': 'sempre que o cliente quiser fechar um pedido, gere um carrinho novo, não reutilize carrinhos'}, {'instruction': 'Sempre obrigatoriamente envie ao cliente o link original da imagem do produto (imageUrl), na listagem de produtos, mesmo que o cliente não peça. É obrigatório priorizar o envio da imagem e NUNCA deixar de enviá-la. Só envie o link da página do produto caso o cliente insista.'}, {'instruction': 'Quando estiver na etapa final de gerar o link de pagamento, chame o agente Payment Agent passando o parametro product_items nesse formato: [{sku_id=sku_id, quantity=1, seller_id=1},{sku_id=sku_id, quantity=1, seller_id=1}] Lembre de substituir o sku_id pelo sku_id e quantity pela quantidade desejada. Sempre use o seller_id=1. Nunca envie nada concatenado ao sku_id. NUNCA envie nesse formato: [{sku_id=1976404#246, quantity=1, seller_id=1}], somente nesse [{sku_id=1976404, quantity=1, seller_id=1}]'}, {'instruction': 'Caso o cliente queira falar com um vendedor, direcione o canal do televendas'}, {'instruction': 'Nunca envie saudações ou qualquer mensagem em ingles ao cliente'}, {'instruction': \"Sempre que receber um link com extensão .jpg você deve enviá-lo ao usuário obrigatóriamente. O link segue esse formato de exemplo 'https://lojaobramax.vtexassets.com/arquivos/ids/NUMERO/NUMERO.jpg?v=NUMERO'\"}, {'instruction': 'Sempre deixe claro que o valor de retirada é referente à separação dos itens e não do frete'}, {'instruction': 'Sempre que for dar o feedback progressivo, envie no mesmo idioma da conversa. Nunca envie uma mensagem em um idioma diferente do idioma do usuário. Não envie mais de dois feedbacks progressivos consecutivamente'}, {'instruction': 'Sempre que o cliente tiver dúvidas sobre a quantidade de cerâmica, pergunte onde será instalada (piso ou parede), a largura e a profundidade do local. Pergunte se o cliente deseja instalar no rodapé; se sim, adicione sempre 10% sobre o total (não calcule o rodapé separadamente, considere sempre 10% a mais). Em seguida, adicione mais 10% sobre o total final para margem de segurança (quebras).'}, {'instruction': 'Sempre tente usar as palavras importantes para o negócio e as coloque em negrito. Para usar negrito use dois asteriscos antes e dois asteriscos após a palavra. As palavras importantes para o negócio são: Confira, Saiba mais, Ver detalhes, Adicionar ao carrinho, Aprovado, Compre, Concluído, Confirmado, Confirmar, Criado, Economize, Finalizar, Garanta, Melhor preço, Recebido'}, {'instruction': 'SEMPRE tente vender para o cliente na conversa, só direcione para o televendas ou loja física se o cliente estiver tendo problemas'}, {'instruction': 'Consulte a base de conhecimento somente se quiser buscar informações sobre retirada, troca e devolução, política de entrega e sobre a obramax. Nunca consulte para saber informações sobre valores ou produtos'}, {'instruction': 'Se o cliente quiser o boleto do orçamento dele, direcione para o canal de televendas'}, {'instruction': 'Fale de forma direta, acessível e com atitude positiva, sem parecer forçado. Use frases curtas, objetivas, com poucos parágrafos e evite jargões complicados. Priorize a clareza e a leitura fácil. Se for ajudar o entendimento, use emojis com moderação, no fim do parágrafo, APENAS quando deixarem a conversa mais leve ou fluida. Ofereça sugestões, mas NUNCA pressione o cliente.'}, {'instruction': 'Sempre que o cliente estiver precisando de ajuda ou com algum problema, direcione para o canal do Cliente de acordo com a base de conhecimento'}, {'instruction': \"Sempre que receber mensagens nessa estrutura 'nome completo do produto + SKU: numero do sku + dúvida' chame o agente de Informações do produto, caso contrário, priorize o uso do agente concierge de busca de produtos\"}, {'instruction': 'Sempre use o agente de busca de produtos, é obrigatório chamar o agente de busca de produtos pelo menos uma vez para regionalizar (com cep e modalidade de entrega) para verificar estoque do produto antes de chamar o agente de checkout e frete'}, {'instruction': 'Sempre use o agente de busca de produtos para saber o valor do produto. O agente de Checkout e frete serve somente para finalizar o pedido e obter informações de frete, informações de pagamento do produto é com o agente de busca de produtos'}, {'instruction': 'Sempre que chamar o agente de checkout já envie o CEP do cliente se tiver'}, {'instruction': 'Seja muito direto informando sobre produtos e vendendo, evite textos grandes e tente sempre vender. Se o cliente não tiver dúvidas, seja direto e venda, faça perguntas somente se o cliente demonstrar estar com dúvidas sobre a compra'}, {'instruction': \"No início da conversa sempre se apresente com essa mensagem 'Olá! Sou seu Vendedor Virtual. Me envie um áudio, texto ou imagem do que precisa e eu te ajudo! O que deseja comprar? 😊'\"}, {'instruction': 'Sempre que for listar produtos, apresente até 3 opções e de forma direta. O usuário não precisa saber como você organizou os itens. Se o cliente quiser ver mais itens avise que ele buscar de forma específica'}, {'instruction': 'Sempre seja cordial em caso de elogio ao final do atendimento e diga \"Até logo\". Responda com leveza e acolhimento, mesmo quando a mensagem for confusa ou fora do tema. Sempre redirecione com naturalidade a conversa para algo que possa ajudar. Se for algo inadequado ou ofensivo, mantenha o tom respeitoso, encurte a conversa e oriente para atendimento nos canais Obramax.'}, {'instruction': 'Sempre que o cliente mudar a opção logística de entrega, chame o agente concierge de busca de produtos para verificação do estoque do produto'}, {'instruction': 'Sempre que for falar o valor de um produto, mencione que ele custa R$ X Preço à vista ou até X vezes de X valor no cartão de crédito (informe que haverá a taxa de juros da operadora de cartão de crédito). Sempre informe o preço de atacado e quantidade mínima se houver, incluindo a imagem de cada produto'}, {'instruction': 'Envie a imagem do produto sem formatação Markdown (ex.: ![nome](URL) ou [Imagem:]). Sempre envie imageUrl original, sem qualquer formatação, especialmente quando o link terminar com extensão de imagem'}, {'instruction': 'Se apresente chamando o cliente pelo nome (se souber) e cumprimente dando as boas vindas. Informe o cliente com naturalidade que ele pode mandar um áudio, texto ou imagem do produto que ele precisa. Convide o cliente a começar, se mostrando disponível a ajudar.'}, {'instruction': 'Em caso de produtos danificados na modalidade de retirada, confirme se o cliente realizou a conferência no ato da retira. Se ele tiver conferido no ato e estava tudo certo com os produtos, não há troca de acordo com a política de troca. Porém indique que o cliente entre em contato com a nossa central do cliente.'}, {'instruction': 'Sempre apresente as opções de frete destacando a mais barata em negrito. Sempre que o cliente quiser retirar, oriente sobre o tamanho do veículo de acordo com a cubagem (carro de passeio, utilitário ou caminhão) se o pedido for em grande quantidade.'}, {'instruction': 'Sempre tente resolver o tema da conversa antes de direcionar para o televendas ou loja física. Sempre que o cliente insistir em falar com um vendedor, direcione o canal do televendas'}]}\n",
      "✅ Successfully copied agent customization to destination project\n"
     ]
    }
   ],
   "source": [
    "# Execute agent customization copy\n",
    "agent_result = copy_agent_customization()"
   ]
  },
  {
   "cell_type": "markdown",
   "metadata": {},
   "source": [
    "## 6. Copy Text Bases"
   ]
  },
  {
   "cell_type": "code",
   "execution_count": 10,
   "metadata": {},
   "outputs": [],
   "source": [
    "def copy_text_bases():\n",
    "    \"\"\"Copy all text bases from source to destination project\"\"\"\n",
    "    print(\"\\nCopying text bases...\")\n",
    "    \n",
    "    try:\n",
    "        # Get content base UUIDs from project UUIDs\n",
    "        print(\"Getting content base UUIDs...\")\n",
    "        source_content_base_uuid = get_content_base_uuid(SOURCE_PROJECT_UUID)\n",
    "        destination_content_base_uuid = get_content_base_uuid(DESTINATION_PROJECT_UUID)\n",
    "        print(f\"Source content base UUID: {source_content_base_uuid}\")\n",
    "        print(f\"Destination content base UUID: {destination_content_base_uuid}\")\n",
    "        \n",
    "        # Get source text bases\n",
    "        source_response = get_text_bases(source_content_base_uuid)\n",
    "        source_text_bases = source_response.get(\"results\", [])\n",
    "        print(f\"Found {len(source_text_bases)} text bases in source project\")\n",
    "        \n",
    "        # Get existing destination text bases\n",
    "        destination_response = get_text_bases(destination_content_base_uuid)\n",
    "        destination_text_bases = destination_response.get(\"results\", [])\n",
    "        print(f\"Found {len(destination_text_bases)} existing text bases in destination project\")\n",
    "        \n",
    "        copied_count = 0\n",
    "        \n",
    "        for i, source_text_base in enumerate(source_text_bases):\n",
    "            try:\n",
    "                # Create text base data\n",
    "                text_data = {\n",
    "                    \"text\": source_text_base.get(\"text\", \"\")\n",
    "                }\n",
    "                \n",
    "                # Check if we should update an existing text base or create a new one\n",
    "                if i < len(destination_text_bases):\n",
    "                    # Update existing text base\n",
    "                    dest_text_base_uuid = destination_text_bases[i][\"uuid\"]\n",
    "                    result = update_text_base(destination_content_base_uuid, dest_text_base_uuid, text_data)\n",
    "                    print(f\"  ✅ Updated text base {i+1}/{len(source_text_bases)}: {text_data['text'][:50]}...\")\n",
    "                else:\n",
    "                    # Create new text base\n",
    "                    result = create_text_base(destination_content_base_uuid, text_data)\n",
    "                    print(f\"  ✅ Created text base {i+1}/{len(source_text_bases)}: {text_data['text'][:50]}...\")\n",
    "                \n",
    "                copied_count += 1\n",
    "                \n",
    "                # Small delay to avoid rate limiting\n",
    "                time.sleep(0.5)\n",
    "                \n",
    "            except Exception as e:\n",
    "                print(f\"  ❌ Error copying text base {i+1}: {str(e)}\")\n",
    "        \n",
    "        print(f\"\\n✅ Successfully copied {copied_count}/{len(source_text_bases)} text bases\")\n",
    "        \n",
    "    except Exception as e:\n",
    "        print(f\"❌ Error accessing text bases: {str(e)}\")"
   ]
  },
  {
   "cell_type": "code",
   "execution_count": 11,
   "metadata": {},
   "outputs": [
    {
     "name": "stdout",
     "output_type": "stream",
     "text": [
      "\n",
      "Copying text bases...\n",
      "Getting content base UUIDs...\n",
      "Source content base UUID: bedaa02d-b6fe-4a19-abf9-e2e4e87beaaa\n",
      "Destination content base UUID: 3bea9443-4f5b-4736-97d7-dfd2285fe00a\n",
      "Found 1 text bases in source project\n",
      "Found 3 existing text bases in destination project\n",
      "  ✅ Updated text base 1/1: Canais de atendimento:\n",
      "- Entre em contato com a Ce...\n",
      "\n",
      "✅ Successfully copied 1/1 text bases\n"
     ]
    }
   ],
   "source": [
    "# Execute text bases copy\n",
    "copy_text_bases()"
   ]
  },
  {
   "cell_type": "markdown",
   "metadata": {},
   "source": [
    "## 7. Copy Link/Site Bases"
   ]
  },
  {
   "cell_type": "code",
   "execution_count": 12,
   "metadata": {},
   "outputs": [],
   "source": [
    "def copy_link_bases():\n",
    "    \"\"\"Copy all link bases from source to destination project\"\"\"\n",
    "    print(\"\\nCopying link/site bases...\")\n",
    "    \n",
    "    try:\n",
    "        # Get content base UUIDs from project UUIDs\n",
    "        print(\"Getting content base UUIDs...\")\n",
    "        source_content_base_uuid = get_content_base_uuid(SOURCE_PROJECT_UUID)\n",
    "        destination_content_base_uuid = get_content_base_uuid(DESTINATION_PROJECT_UUID)\n",
    "        print(f\"Source content base UUID: {source_content_base_uuid}\")\n",
    "        print(f\"Destination content base UUID: {destination_content_base_uuid}\")\n",
    "        \n",
    "        # Get source link bases\n",
    "        source_link_bases = get_link_bases(source_content_base_uuid)\n",
    "        # Link bases return a direct array, not wrapped in results\n",
    "        print(f\"Found {len(source_link_bases)} link bases in source project\")\n",
    "        \n",
    "        copied_count = 0\n",
    "        \n",
    "        for i, link_base in enumerate(source_link_bases):\n",
    "            try:\n",
    "                # Create link base data\n",
    "                link_data = {\n",
    "                    \"link\": link_base.get(\"link\", \"\")\n",
    "                }\n",
    "                \n",
    "                # Create in destination\n",
    "                result = create_link_base(destination_content_base_uuid, link_data)\n",
    "                copied_count += 1\n",
    "                print(f\"  ✅ Copied link base {i+1}/{len(source_link_bases)}: {link_data['link']}\")\n",
    "                \n",
    "                # Small delay to avoid rate limiting\n",
    "                time.sleep(0.5)\n",
    "                \n",
    "            except Exception as e:\n",
    "                print(f\"  ❌ Error copying link base {i+1}: {str(e)}\")\n",
    "        \n",
    "        print(f\"\\n✅ Successfully copied {copied_count}/{len(source_link_bases)} link bases\")\n",
    "        \n",
    "    except Exception as e:\n",
    "        print(f\"❌ Error accessing link bases: {str(e)}\")"
   ]
  },
  {
   "cell_type": "code",
   "execution_count": 13,
   "metadata": {},
   "outputs": [
    {
     "name": "stdout",
     "output_type": "stream",
     "text": [
      "\n",
      "Copying link/site bases...\n",
      "Getting content base UUIDs...\n",
      "Source content base UUID: bedaa02d-b6fe-4a19-abf9-e2e4e87beaaa\n",
      "Destination content base UUID: 3bea9443-4f5b-4736-97d7-dfd2285fe00a\n",
      "Found 6 link bases in source project\n",
      "  ✅ Copied link base 1/6: https://blog.obramax.com.br/\n",
      "  ✅ Copied link base 2/6: https://www.obramax.com.br/perguntas-frequentes\n",
      "  ✅ Copied link base 3/6: https://www.obramax.com.br/retira-facil\n",
      "  ✅ Copied link base 4/6: https://www.obramax.com.br/politica-de-troca-e-devolucao\n",
      "  ✅ Copied link base 5/6: https://www.obramax.com.br/politica-de-entrega\n",
      "  ✅ Copied link base 6/6: https://www.obramax.com.br/sobre-obramax\n",
      "\n",
      "✅ Successfully copied 6/6 link bases\n"
     ]
    }
   ],
   "source": [
    "# Execute link bases copy\n",
    "copy_link_bases()"
   ]
  },
  {
   "cell_type": "markdown",
   "metadata": {},
   "source": [
    "## 8. Copy File Bases"
   ]
  },
  {
   "cell_type": "code",
   "execution_count": 14,
   "metadata": {},
   "outputs": [],
   "source": [
    "def copy_file_bases():\n",
    "    \"\"\"Copy all file bases from source to destination project\"\"\"\n",
    "    print(\"\\nCopying file bases...\")\n",
    "    \n",
    "    try:\n",
    "        # Get content base UUIDs from project UUIDs\n",
    "        print(\"Getting content base UUIDs...\")\n",
    "        source_content_base_uuid = get_content_base_uuid(SOURCE_PROJECT_UUID)\n",
    "        destination_content_base_uuid = get_content_base_uuid(DESTINATION_PROJECT_UUID)\n",
    "        print(f\"Source content base UUID: {source_content_base_uuid}\")\n",
    "        print(f\"Destination content base UUID: {destination_content_base_uuid}\")\n",
    "        \n",
    "        # Get source file bases\n",
    "        source_response = get_file_bases(source_content_base_uuid)\n",
    "        source_file_bases = source_response.get(\"results\", [])\n",
    "        print(f\"Found {len(source_file_bases)} file bases in source project\")\n",
    "        \n",
    "        copied_count = 0\n",
    "        \n",
    "        for i, file_base in enumerate(source_file_bases):\n",
    "            try:\n",
    "                # Download the file - use file_name field from response\n",
    "                file_url = file_base.get('file')\n",
    "                file_name = file_base.get('file_name', f'file_{i+1}.pdf')\n",
    "                \n",
    "                if not file_url:\n",
    "                    print(f\"  ⚠️  No file URL for file base {i+1} ({file_name}), skipping\")\n",
    "                    continue\n",
    "                \n",
    "                print(f\"  Downloading file {i+1}/{len(source_file_bases)}: {file_name}...\")\n",
    "                file_content = download_file(file_url)\n",
    "                \n",
    "                # Prepare file data using correct field names from API response\n",
    "                file_data = {\n",
    "                    'filename': file_base.get('created_file_name', file_name.split('.')[0]),\n",
    "                    'extension_file': file_base.get('extension_file', 'pdf'),\n",
    "                    'load_type': 'pdfminer',  # Default load type\n",
    "                    'content_type': 'application/pdf'  # Default content type\n",
    "                }\n",
    "                \n",
    "                # Create in destination\n",
    "                result = create_file_base(destination_content_base_uuid, file_data, file_content)\n",
    "                copied_count += 1\n",
    "                print(f\"  ✅ Copied file base {i+1}/{len(source_file_bases)}: {file_name}\")\n",
    "                \n",
    "                # Small delay to avoid rate limiting\n",
    "                time.sleep(1)\n",
    "                \n",
    "            except Exception as e:\n",
    "                print(f\"  ❌ Error copying file base {i+1}: {str(e)}\")\n",
    "        \n",
    "        print(f\"\\n✅ Successfully copied {copied_count}/{len(source_file_bases)} file bases\")\n",
    "        \n",
    "    except Exception as e:\n",
    "        print(f\"❌ Error accessing file bases: {str(e)}\")"
   ]
  },
  {
   "cell_type": "code",
   "execution_count": 15,
   "metadata": {},
   "outputs": [
    {
     "name": "stdout",
     "output_type": "stream",
     "text": [
      "\n",
      "Copying file bases...\n",
      "Getting content base UUIDs...\n",
      "Source content base UUID: bedaa02d-b6fe-4a19-abf9-e2e4e87beaaa\n",
      "Destination content base UUID: 3bea9443-4f5b-4736-97d7-dfd2285fe00a\n",
      "Found 0 file bases in source project\n",
      "\n",
      "✅ Successfully copied 0/0 file bases\n"
     ]
    }
   ],
   "source": [
    "# Execute file bases copy\n",
    "copy_file_bases()"
   ]
  },
  {
   "cell_type": "markdown",
   "metadata": {},
   "source": [
    "## 9. Complete Copy Process"
   ]
  },
  {
   "cell_type": "code",
   "execution_count": null,
   "metadata": {},
   "outputs": [],
   "source": [
    "def copy_all_project_data():\n",
    "    \"\"\"Copy all data from source to destination project\"\"\"\n",
    "    print(\"=\" * 50)\n",
    "    print(\"Starting complete project copy...\")\n",
    "    print(f\"Source: {SOURCE_PROJECT_UUID}\")\n",
    "    print(f\"Destination: {DESTINATION_PROJECT_UUID}\")\n",
    "    print(\"=\" * 50)\n",
    "    \n",
    "    # Copy agent customization\n",
    "    copy_agent_customization()\n",
    "    \n",
    "    # Copy text bases\n",
    "    copy_text_bases()\n",
    "    \n",
    "    # Copy link bases\n",
    "    copy_link_bases()\n",
    "    \n",
    "    # Copy file bases\n",
    "    copy_file_bases()\n",
    "    \n",
    "    print(\"\\n\" + \"=\" * 50)\n",
    "    print(\"✅ Project copy process completed!\")\n",
    "    print(\"=\" * 50)"
   ]
  },
  {
   "cell_type": "code",
   "execution_count": null,
   "metadata": {},
   "outputs": [],
   "source": [
    "# Execute complete copy process\n",
    "copy_all_project_data()"
   ]
  },
  {
   "cell_type": "markdown",
   "metadata": {},
   "source": [
    "## 10. Verification Functions (Optional)"
   ]
  },
  {
   "cell_type": "code",
   "execution_count": null,
   "metadata": {},
   "outputs": [],
   "source": [
    "def verify_copy():\n",
    "    \"\"\"Verify that all data was copied correctly\"\"\"\n",
    "    print(\"\\nVerifying copy results...\")\n",
    "    print(\"=\" * 50)\n",
    "    \n",
    "    try:\n",
    "        # Get destination content base UUID\n",
    "        destination_content_base_uuid = get_content_base_uuid(DESTINATION_PROJECT_UUID)\n",
    "        \n",
    "        # Check agent customization\n",
    "        dest_customization = get_agent_customization(DESTINATION_PROJECT_UUID)\n",
    "        print(f\"✅ Agent customization: {dest_customization.get('agent', {}).get('name', 'N/A')}\")\n",
    "        print(f\"   Instructions count: {len(dest_customization.get('instructions', []))}\")\n",
    "        \n",
    "        # Check text bases\n",
    "        dest_text_response = get_text_bases(destination_content_base_uuid)\n",
    "        dest_text_bases = dest_text_response.get(\"results\", [])\n",
    "        print(f\"\\n✅ Text bases: {len(dest_text_bases)} items\")\n",
    "        \n",
    "        # Check link bases\n",
    "        dest_link_bases = get_link_bases(destination_content_base_uuid)\n",
    "        # Link bases return direct array\n",
    "        print(f\"✅ Link bases: {len(dest_link_bases)} items\")\n",
    "        \n",
    "        # Check file bases\n",
    "        dest_file_response = get_file_bases(destination_content_base_uuid)\n",
    "        dest_file_bases = dest_file_response.get(\"results\", [])\n",
    "        print(f\"✅ File bases: {len(dest_file_bases)} items\")\n",
    "        \n",
    "        print(\"\\n\" + \"=\" * 50)\n",
    "        print(\"Verification complete!\")\n",
    "        \n",
    "    except Exception as e:\n",
    "        print(f\"❌ Error during verification: {str(e)}\")"
   ]
  },
  {
   "cell_type": "code",
   "execution_count": null,
   "metadata": {},
   "outputs": [],
   "source": [
    "# Run verification\n",
    "verify_copy()"
   ]
  }
 ],
 "metadata": {
  "kernelspec": {
   "display_name": "env",
   "language": "python",
   "name": "python3"
  },
  "language_info": {
   "codemirror_mode": {
    "name": "ipython",
    "version": 3
   },
   "file_extension": ".py",
   "mimetype": "text/x-python",
   "name": "python",
   "nbconvert_exporter": "python",
   "pygments_lexer": "ipython3",
   "version": "3.10.13"
  }
 },
 "nbformat": 4,
 "nbformat_minor": 4
}
